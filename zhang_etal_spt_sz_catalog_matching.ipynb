{
 "cells": [
  {
   "cell_type": "code",
   "execution_count": 1,
   "metadata": {},
   "outputs": [
    {
     "name": "stderr",
     "output_type": "stream",
     "text": [
      "/Users/kedar/anaconda3/lib/python3.7/site-packages/dask/config.py:168: YAMLLoadWarning: calling yaml.load() without Loader=... is deprecated, as the default Loader is unsafe. Please read https://msg.pyyaml.org/load for full details.\n",
      "  data = yaml.load(f.read()) or {}\n"
     ]
    }
   ],
   "source": [
    "from astropy.io import fits\n",
    "import numpy as np\n",
    "import astropy\n",
    "import sys; import os\n",
    "import astropy.units as u\n",
    "from astropy.cosmology import Planck18 as cosmo\n",
    "import matplotlib.pyplot as plt\n",
    "from matplotlib import rc\n",
    "from matplotlib import rcParams\n",
    "rcParams['font.family'] = 'Helvetica'\n",
    "rcParams['text.usetex'] = 'False'\n",
    "from matplotlib.ticker import (MultipleLocator, AutoMinorLocator)\n",
    "rcParams['figure.facecolor'] = 'white'\n",
    "from astropy.io import ascii\n",
    "from astropy.table import Table\n",
    "from matplotlib import gridspec\n",
    "import matplotlib\n",
    "from glob import glob\n",
    "from astropy.wcs import WCS\n",
    "from astropy.visualization import LinearStretch, LogStretch, ImageNormalize, ZScaleInterval\n",
    "\n",
    "\n",
    "\n"
   ]
  },
  {
   "cell_type": "code",
   "execution_count": 2,
   "metadata": {},
   "outputs": [],
   "source": [
    "fermi_4fgl_dr4_14yr_cat = Table.read('gll_psc_v35.fit',format='fits',hdu=1) ##https://fermi.gsfc.nasa.gov/ssc/data/access/lat/14yr_catalog/\n"
   ]
  },
  {
   "cell_type": "code",
   "execution_count": 3,
   "metadata": {},
   "outputs": [
    {
     "data": {
      "text/plain": [
       "['Source_Name',\n",
       " 'DataRelease',\n",
       " 'RAJ2000',\n",
       " 'DEJ2000',\n",
       " 'GLON',\n",
       " 'GLAT',\n",
       " 'Conf_68_SemiMajor',\n",
       " 'Conf_68_SemiMinor',\n",
       " 'Conf_68_PosAng',\n",
       " 'Conf_95_SemiMajor',\n",
       " 'Conf_95_SemiMinor',\n",
       " 'Conf_95_PosAng',\n",
       " 'ROI_num',\n",
       " 'Extended_Source_Name',\n",
       " 'Signif_Avg',\n",
       " 'Pivot_Energy',\n",
       " 'Flux1000',\n",
       " 'Unc_Flux1000',\n",
       " 'Energy_Flux100',\n",
       " 'Unc_Energy_Flux100',\n",
       " 'SpectrumType',\n",
       " 'PL_Flux_Density',\n",
       " 'Unc_PL_Flux_Density',\n",
       " 'PL_Index',\n",
       " 'Unc_PL_Index',\n",
       " 'LP_Flux_Density',\n",
       " 'Unc_LP_Flux_Density',\n",
       " 'LP_Index',\n",
       " 'Unc_LP_Index',\n",
       " 'LP_beta',\n",
       " 'Unc_LP_beta',\n",
       " 'LP_SigCurv',\n",
       " 'LP_EPeak',\n",
       " 'Unc_LP_EPeak',\n",
       " 'PLEC_Flux_Density',\n",
       " 'Unc_PLEC_Flux_Density',\n",
       " 'PLEC_IndexS',\n",
       " 'Unc_PLEC_IndexS',\n",
       " 'PLEC_ExpfactorS',\n",
       " 'Unc_PLEC_ExpfactorS',\n",
       " 'PLEC_Exp_Index',\n",
       " 'Unc_PLEC_Exp_Index',\n",
       " 'PLEC_SigCurv',\n",
       " 'PLEC_EPeak',\n",
       " 'Unc_PLEC_EPeak',\n",
       " 'Npred',\n",
       " 'Flux_Band',\n",
       " 'Unc_Flux_Band',\n",
       " 'nuFnu_Band',\n",
       " 'Sqrt_TS_Band',\n",
       " 'Variability_Index',\n",
       " 'Frac_Variability',\n",
       " 'Unc_Frac_Variability',\n",
       " 'Signif_Peak',\n",
       " 'Flux_Peak',\n",
       " 'Unc_Flux_Peak',\n",
       " 'Time_Peak',\n",
       " 'Peak_Interval',\n",
       " 'Flux_History',\n",
       " 'Unc_Flux_History',\n",
       " 'Sqrt_TS_History',\n",
       " 'ASSOC_4FGL',\n",
       " 'ASSOC_FGL',\n",
       " 'ASSOC_FHL',\n",
       " 'ASSOC_GAM1',\n",
       " 'ASSOC_GAM2',\n",
       " 'ASSOC_GAM3',\n",
       " 'TEVCAT_FLAG',\n",
       " 'ASSOC_TEV',\n",
       " 'CLASS1',\n",
       " 'CLASS2',\n",
       " 'ASSOC1',\n",
       " 'ASSOC2',\n",
       " 'ASSOC_PROB_BAY',\n",
       " 'ASSOC_PROB_LR',\n",
       " 'RA_Counterpart',\n",
       " 'DEC_Counterpart',\n",
       " 'Unc_Counterpart',\n",
       " 'Flags']"
      ]
     },
     "execution_count": 3,
     "metadata": {},
     "output_type": "execute_result"
    }
   ],
   "source": [
    "fermi_4fgl_dr4_14yr_cat.keys()"
   ]
  },
  {
   "cell_type": "code",
   "execution_count": 12,
   "metadata": {},
   "outputs": [],
   "source": [
    "fermi_ra = fermi_4fgl_dr4_14yr_cat['RAJ2000']\n",
    "fermi_dec = fermi_4fgl_dr4_14yr_cat['DEJ2000']\n",
    "fermi_sn = fermi_4fgl_dr4_14yr_cat['Source_Name']\n",
    "fermi_c95_smaj = fermi_4fgl_dr4_14yr_cat['Conf_95_SemiMajor']\n",
    "fermi_f1000 = fermi_4fgl_dr4_14yr_cat['Flux1000']\n",
    "fermi_f1000_unc = fermi_4fgl_dr4_14yr_cat['Unc_Flux1000']\n"
   ]
  },
  {
   "cell_type": "code",
   "execution_count": 15,
   "metadata": {},
   "outputs": [
    {
     "data": {
      "text/plain": [
       "(array([4.583e+03, 1.811e+03, 4.740e+02, 1.410e+02, 5.500e+01, 2.200e+01,\n",
       "        1.000e+01, 3.000e+00, 3.000e+00, 3.000e+00]),\n",
       " array([ 0.43800002,  5.5812    , 10.7244    , 15.8675995 , 21.0108    ,\n",
       "        26.154     , 31.2972    , 36.4404    , 41.5836    , 46.7268    ,\n",
       "        51.87      ], dtype=float32),\n",
       " <BarContainer object of 10 artists>)"
      ]
     },
     "execution_count": 15,
     "metadata": {},
     "output_type": "execute_result"
    },
    {
     "data": {
      "image/png": "[encoded data removed]",
      "text/plain": [
       "<Figure size 432x288 with 1 Axes>"
      ]
     },
     "metadata": {
      "needs_background": "light"
     },
     "output_type": "display_data"
    }
   ],
   "source": [
    "plt.hist(fermi_c95_smaj*60)"
   ]
  },
  {
   "cell_type": "code",
   "execution_count": 7,
   "metadata": {},
   "outputs": [],
   "source": [
    "spt_sz_cat = Table.read('Everett20_SPT-SZ_PS_catalog_v3.dat',format='ascii') \n"
   ]
  },
  {
   "cell_type": "code",
   "execution_count": 8,
   "metadata": {},
   "outputs": [
    {
     "data": {
      "text/plain": [
       "['SPT ID',\n",
       " 'RA',\n",
       " 'DEC',\n",
       " 'S/N (95 GHz)',\n",
       " 'S_raw (95 GHz) [mJy]',\n",
       " 'S_best (95 GHz) [mJy]',\n",
       " 'dS_up (95 GHz) [mJy]',\n",
       " 'dS_down (95 GHz) [mJy]',\n",
       " 'S/N (150 GHz)',\n",
       " 'S_raw (150 GHz) [mJy]',\n",
       " 'S_best (150 GHz) [mJy]',\n",
       " 'dS_up (150 GHz) [mJy]',\n",
       " 'dS_down (150 GHz) [mJy]',\n",
       " 'S/N (220 GHz)',\n",
       " 'S_raw (220 GHz) [mJy]',\n",
       " 'S_best (220 GHz) [mJy]',\n",
       " 'dS_up (220 GHz) [mJy]',\n",
       " 'dS_down (220 GHz) [mJy]',\n",
       " 'alpha(95,150)_raw',\n",
       " 'alpha(95,150)_best',\n",
       " 'd_alpha(95,150)_up',\n",
       " 'd_alpha(95,150)_down',\n",
       " 'alpha(150,220)_raw',\n",
       " 'alpha(150,220)_best',\n",
       " 'd_alpha(150,220)_up',\n",
       " 'd_alpha(150,220)_down',\n",
       " 'P[alpha(150,220)>1.51]',\n",
       " 'Type',\n",
       " 'External catalogs',\n",
       " 'Extended',\n",
       " 'Redshift',\n",
       " 'Cut selection']"
      ]
     },
     "execution_count": 8,
     "metadata": {},
     "output_type": "execute_result"
    }
   ],
   "source": [
    "spt_sz_cat.keys()"
   ]
  },
  {
   "cell_type": "code",
   "execution_count": 26,
   "metadata": {},
   "outputs": [],
   "source": [
    "spt_ra = spt_sz_cat['RA']\n",
    "spt_dec = spt_sz_cat['DEC']\n",
    "spt_95 = spt_sz_cat['S_best (95 GHz) [mJy]']\n",
    "spt_150 = spt_sz_cat['S_best (150 GHz) [mJy]']\n",
    "spt_220 = spt_sz_cat['S_best (220 GHz) [mJy]']\n",
    "spt_95_150_si = spt_sz_cat['alpha(95,150)_best']\n",
    "spt_name = spt_sz_cat['SPT ID']\n",
    "spt_150_220_si = spt_sz_cat['alpha(150,220)_best']\n",
    "spt_95_sn = spt_sz_cat['S/N (95 GHz)']\n",
    "spt_150_sn = spt_sz_cat['S/N (150 GHz)']\n",
    "spt_220_sn = spt_sz_cat['S/N (220 GHz)']\n"
   ]
  },
  {
   "cell_type": "code",
   "execution_count": 45,
   "metadata": {},
   "outputs": [],
   "source": [
    "spt_max_sn = np.zeros_like(spt_150_sn)\n",
    "for i in range(len(spt_150_sn)):\n",
    "    spt_max_sn[i] = np.max([spt_95_sn[i],spt_150_sn[i],spt_220_sn[i]])"
   ]
  },
  {
   "cell_type": "code",
   "execution_count": 46,
   "metadata": {},
   "outputs": [],
   "source": [
    "spt_dec_err = np.sqrt(4.3**2 + (72/spt_max_sn)**2)\n",
    "spt_ra_err = np.sqrt((4.6/np.cos(spt_dec*np.pi/180.0))**2 + (72/spt_max_sn)**2)"
   ]
  },
  {
   "cell_type": "code",
   "execution_count": 79,
   "metadata": {},
   "outputs": [],
   "source": [
    "spt_dec_err.name = 'DEC_err (arcsec)'\n",
    "spt_ra_err.name = 'RA_err  (arcsec)'\n",
    "spt_max_sn.name = 'Max SNR'"
   ]
  },
  {
   "cell_type": "code",
   "execution_count": 80,
   "metadata": {},
   "outputs": [
    {
     "data": {
      "text/plain": [
       "(array([614., 335., 340., 316., 327., 400., 400., 582., 927., 604.]),\n",
       " array([ 4.30005219,  5.52569553,  6.75133888,  7.97698222,  9.20262557,\n",
       "        10.42826891, 11.65391225, 12.8795556 , 14.10519894, 15.33084229,\n",
       "        16.55648563]),\n",
       " <BarContainer object of 10 artists>)"
      ]
     },
     "execution_count": 80,
     "metadata": {},
     "output_type": "execute_result"
    },
    {
     "data": {
      "image/png": "[encoded data removed]",
      "text/plain": [
       "<Figure size 432x288 with 1 Axes>"
      ]
     },
     "metadata": {
      "needs_background": "light"
     },
     "output_type": "display_data"
    }
   ],
   "source": [
    "plt.hist(spt_dec_err)"
   ]
  },
  {
   "cell_type": "code",
   "execution_count": 81,
   "metadata": {},
   "outputs": [
    {
     "data": {
      "text/plain": [
       "(array([247., 401., 454., 442., 459., 473., 590., 908., 712., 159.]),\n",
       " array([ 6.0109515 ,  7.30568716,  8.60042282,  9.89515848, 11.18989414,\n",
       "        12.4846298 , 13.77936546, 15.07410112, 16.36883678, 17.66357244,\n",
       "        18.9583081 ]),\n",
       " <BarContainer object of 10 artists>)"
      ]
     },
     "execution_count": 81,
     "metadata": {},
     "output_type": "execute_result"
    },
    {
     "data": {
      "image/png": "[encoded data removed]",
      "text/plain": [
       "<Figure size 432x288 with 1 Axes>"
      ]
     },
     "metadata": {
      "needs_background": "light"
     },
     "output_type": "display_data"
    }
   ],
   "source": [
    "plt.hist(spt_ra_err)"
   ]
  },
  {
   "cell_type": "code",
   "execution_count": 84,
   "metadata": {},
   "outputs": [
    {
     "data": {
      "text/html": [
       "&lt;Column name=&apos;RA_err  (arcsec)&apos; dtype=&apos;float64&apos; length=4845&gt;\n",
       "<table>\n",
       "<tr><td>16.812299751883693</td></tr>\n",
       "<tr><td>15.619574381591917</td></tr>\n",
       "<tr><td>16.231083731847875</td></tr>\n",
       "<tr><td>16.473162923242253</td></tr>\n",
       "<tr><td>8.523662410270427</td></tr>\n",
       "<tr><td>15.423524122146665</td></tr>\n",
       "<tr><td>15.79965078962984</td></tr>\n",
       "<tr><td>16.907126619483176</td></tr>\n",
       "<tr><td>15.77338037555435</td></tr>\n",
       "<tr><td>17.14265378634572</td></tr>\n",
       "<tr><td>14.578214924515297</td></tr>\n",
       "<tr><td>12.919870696035007</td></tr>\n",
       "<tr><td>...</td></tr>\n",
       "<tr><td>9.485016865329175</td></tr>\n",
       "<tr><td>10.584910642080652</td></tr>\n",
       "<tr><td>12.258436105744808</td></tr>\n",
       "<tr><td>17.681742014115397</td></tr>\n",
       "<tr><td>13.50710458176246</td></tr>\n",
       "<tr><td>9.536306799030655</td></tr>\n",
       "<tr><td>16.905339287203397</td></tr>\n",
       "<tr><td>16.26117338298128</td></tr>\n",
       "<tr><td>9.56509787344882</td></tr>\n",
       "<tr><td>16.161618611114317</td></tr>\n",
       "<tr><td>7.371001919130574</td></tr>\n",
       "<tr><td>15.883190392274603</td></tr>\n",
       "</table>"
      ],
      "text/plain": [
       "<Column name='RA_err  (arcsec)' dtype='float64' length=4845>\n",
       "16.812299751883693\n",
       "15.619574381591917\n",
       "16.231083731847875\n",
       "16.473162923242253\n",
       " 8.523662410270427\n",
       "15.423524122146665\n",
       " 15.79965078962984\n",
       "16.907126619483176\n",
       " 15.77338037555435\n",
       " 17.14265378634572\n",
       "14.578214924515297\n",
       "12.919870696035007\n",
       "               ...\n",
       " 9.485016865329175\n",
       "10.584910642080652\n",
       "12.258436105744808\n",
       "17.681742014115397\n",
       " 13.50710458176246\n",
       " 9.536306799030655\n",
       "16.905339287203397\n",
       " 16.26117338298128\n",
       "  9.56509787344882\n",
       "16.161618611114317\n",
       " 7.371001919130574\n",
       "15.883190392274603"
      ]
     },
     "execution_count": 84,
     "metadata": {},
     "output_type": "execute_result"
    }
   ],
   "source": [
    "spt_ra_err"
   ]
  },
  {
   "cell_type": "code",
   "execution_count": 85,
   "metadata": {},
   "outputs": [],
   "source": [
    "spt_sz_cat_new = Table([spt_name,spt_ra,spt_ra_err,spt_dec,spt_dec_err,spt_95,spt_150,spt_220,spt_95_sn,spt_150_sn,spt_220_sn,spt_95_150_si,spt_150_220_si]) "
   ]
  },
  {
   "cell_type": "code",
   "execution_count": 96,
   "metadata": {},
   "outputs": [],
   "source": [
    "#spt_hdr['SKYAREA'] = 2500.0"
   ]
  },
  {
   "cell_type": "code",
   "execution_count": 88,
   "metadata": {},
   "outputs": [
    {
     "data": {
      "text/plain": [
       "OrderedDict()"
      ]
     },
     "execution_count": 88,
     "metadata": {},
     "output_type": "execute_result"
    }
   ],
   "source": [
    "spt_sz_cat_new.meta"
   ]
  },
  {
   "cell_type": "code",
   "execution_count": 90,
   "metadata": {},
   "outputs": [
    {
     "name": "stdout",
     "output_type": "stream",
     "text": [
      "(106.87451, 298.05331) (-37.78931, -67.301392)\n"
     ]
    }
   ],
   "source": [
    "ra_pad = 2.0\n",
    "dec_pad = 2.0\n",
    "\n",
    "spt_ra_bounds = np.nanmax(spt_ra[spt_ra <180])+ra_pad,np.nanmin(spt_ra[spt_ra>180])-ra_pad\n",
    "spt_dec_bounds = np.nanmax(spt_dec)+dec_pad,np.nanmin(spt_dec)-dec_pad\n",
    "print(spt_ra_bounds,spt_dec_bounds)"
   ]
  },
  {
   "cell_type": "code",
   "execution_count": 91,
   "metadata": {},
   "outputs": [],
   "source": [
    "fermi_common_ra = fermi_ra[np.logical_or(fermi_ra<spt_ra_bounds[0],fermi_ra>spt_ra_bounds[1])]\n",
    "fermi_common_dec = fermi_dec[np.logical_and(fermi_dec<spt_dec_bounds[0],fermi_dec>spt_dec_bounds[1])]\n",
    "fermi_indices = np.where((fermi_dec<-40) & (fermi_dec>-65) & ~((fermi_ra>spt_ra_bounds[0]) & (fermi_ra < spt_ra_bounds[1])))"
   ]
  },
  {
   "cell_type": "code",
   "execution_count": 92,
   "metadata": {},
   "outputs": [],
   "source": [
    "fermi_ra2 = fermi_4fgl_dr4_14yr_cat['RAJ2000'][fermi_indices]\n",
    "fermi_dec2 = fermi_4fgl_dr4_14yr_cat['DEJ2000'][fermi_indices]\n",
    "fermi_sn2 = fermi_4fgl_dr4_14yr_cat['Source_Name'][fermi_indices]\n",
    "fermi_f10002 = fermi_4fgl_dr4_14yr_cat['Flux1000'][fermi_indices]\n",
    "fermi_f1000_unc2 = fermi_4fgl_dr4_14yr_cat['Unc_Flux1000'][fermi_indices]\n"
   ]
  },
  {
   "cell_type": "code",
   "execution_count": 94,
   "metadata": {},
   "outputs": [
    {
     "data": {
      "text/plain": [
       "(array([26., 32., 30., 38., 48., 42., 56., 46., 45., 45.]),\n",
       " array([-64.9913  , -62.49282 , -59.994343, -57.49586 , -54.997383,\n",
       "        -52.4989  , -50.00042 , -47.50194 , -45.00346 , -42.504982,\n",
       "        -40.0065  ], dtype=float32),\n",
       " <BarContainer object of 10 artists>)"
      ]
     },
     "execution_count": 94,
     "metadata": {},
     "output_type": "execute_result"
    },
    {
     "data": {
      "image/png": "[encoded data removed]",
      "text/plain": [
       "<Figure size 432x288 with 1 Axes>"
      ]
     },
     "metadata": {
      "needs_background": "light"
     },
     "output_type": "display_data"
    }
   ],
   "source": [
    "plt.hist(fermi_dec2)"
   ]
  },
  {
   "cell_type": "code",
   "execution_count": null,
   "metadata": {},
   "outputs": [],
   "source": []
  }
 ],
 "metadata": {
  "kernelspec": {
   "display_name": "Python 3",
   "language": "python",
   "name": "python3"
  },
  "language_info": {
   "codemirror_mode": {
    "name": "ipython",
    "version": 3
   },
   "file_extension": ".py",
   "mimetype": "text/x-python",
   "name": "python",
   "nbconvert_exporter": "python",
   "pygments_lexer": "ipython3",
   "version": "3.7.3"
  }
 },
 "nbformat": 4,
 "nbformat_minor": 2
}
