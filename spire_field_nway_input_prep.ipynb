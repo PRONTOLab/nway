{
 "cells": [
  {
   "cell_type": "code",
   "execution_count": 1,
   "metadata": {},
   "outputs": [],
   "source": [
    "from astropy.io import fits\n",
    "import numpy as np\n",
    "import astropy\n",
    "import sys; import os\n",
    "import astropy.units as u\n",
    "from astropy.cosmology import Planck18 as cosmo\n",
    "import matplotlib.pyplot as plt\n",
    "from matplotlib import rc\n",
    "from matplotlib import rcParams\n",
    "rcParams['font.family'] = 'Helvetica'\n",
    "rcParams['text.usetex'] = 'False'\n",
    "from matplotlib.ticker import (MultipleLocator, AutoMinorLocator)\n",
    "rcParams['figure.facecolor'] = 'white'\n",
    "from astropy.io import ascii\n",
    "from astropy.table import Table\n",
    "from matplotlib import gridspec\n",
    "import matplotlib\n",
    "from glob import glob\n",
    "from astropy.wcs import WCS\n",
    "from astropy.visualization import LinearStretch, LogStretch, ImageNormalize, ZScaleInterval\n",
    "import pandas as pd\n",
    "from astropy.coordinates import SkyCoord\n",
    "\n",
    "import warnings\n",
    "warnings.filterwarnings(\"ignore\", category=UserWarning)"
   ]
  },
  {
   "cell_type": "code",
   "execution_count": 2,
   "metadata": {},
   "outputs": [],
   "source": [
    "meerkat_cat = Table.read('MeerKAT_MK-SPT-mosaic_v3.csv',format='csv')\n"
   ]
  },
  {
   "cell_type": "code",
   "execution_count": 3,
   "metadata": {},
   "outputs": [],
   "source": [
    "#spt_spire_jack_cat = Table.read('all_spt3g_sources_in_spire_field_jb_no_NaNs.csv')"
   ]
  },
  {
   "cell_type": "code",
   "execution_count": 4,
   "metadata": {},
   "outputs": [],
   "source": [
    "spt_3g_new_tab = Table.from_pandas(pd.read_pickle('spt3g_1500d_source_list_fullinfo_ma_26nov24.pkl'))"
   ]
  },
  {
   "cell_type": "code",
   "execution_count": 5,
   "metadata": {},
   "outputs": [],
   "source": [
    "spire_ind = np.where(spt_3g_new_tab['spt3g_spire_flag']==1)\n",
    "spt_spire_new_tab = spt_3g_new_tab[spire_ind]"
   ]
  },
  {
   "cell_type": "code",
   "execution_count": null,
   "metadata": {},
   "outputs": [],
   "source": []
  },
  {
   "cell_type": "code",
   "execution_count": 6,
   "metadata": {},
   "outputs": [
    {
     "name": "stderr",
     "output_type": "stream",
     "text": [
      "WARNING: UnitsWarning: 'mJy/Beam' did not parse as fits unit: At col 4, Unit 'Beam' not supported by the FITS standard. Did you mean beam? If this is meant to be a custom unit, define it with 'u.def_unit'. To have it recognized inside a file reader or other code, enable it with 'u.add_enabled_units'. For details, see https://docs.astropy.org/en/latest/units/combining_and_defining.html [astropy.units.core]\n"
     ]
    }
   ],
   "source": [
    "help_blind_cat = Table.read('dmu22_XID+SPIRE_SSDF_BLIND_Matched_MF.fits',format='fits')"
   ]
  },
  {
   "cell_type": "code",
   "execution_count": 7,
   "metadata": {},
   "outputs": [
    {
     "data": {
      "text/html": [
       "<div><i>Table length=224487</i>\n",
       "<table id=\"table140535665323856\" class=\"table-striped table-bordered table-condensed\">\n",
       "<thead><tr><th># Source_id</th><th>Isl_id</th><th>RA</th><th>E_RA</th><th>DEC</th><th>E_DEC</th><th>Total_flux</th><th>E_Total_flux</th><th>Peak_flux</th><th>E_Peak_flux</th><th>RA_max</th><th>E_RA_max</th><th>DEC_max</th><th>E_DEC_max</th><th>Maj</th><th>E_Maj</th><th>Min</th><th>E_Min</th><th>PA</th><th>E_PA</th><th>Maj_img_plane</th><th>E_Maj_img_plane</th><th>Min_img_plane</th><th>E_Min_img_plane</th><th>PA_img_plane</th><th>E_PA_img_plane</th><th>DC_Maj</th><th>E_DC_Maj</th><th>DC_Min</th><th>E_DC_Min</th><th>DC_PA</th><th>E_DC_PA</th><th>DC_Maj_img_plane</th><th>E_DC_Maj_img_plane</th><th>DC_Min_img_plane</th><th>E_DC_Min_img_plane</th><th>DC_PA_img_plane</th><th>E_DC_PA_img_plane</th><th>Isl_Total_flux</th><th>E_Isl_Total_flux</th><th>Isl_rms</th><th>Isl_mean</th><th>Resid_Isl_rms</th><th>Resid_Isl_mean</th><th>S_Code</th></tr></thead>\n",
       "<thead><tr><th>int64</th><th>int64</th><th>float64</th><th>float64</th><th>float64</th><th>float64</th><th>float64</th><th>float64</th><th>float64</th><th>float64</th><th>float64</th><th>float64</th><th>float64</th><th>float64</th><th>float64</th><th>float64</th><th>float64</th><th>float64</th><th>float64</th><th>float64</th><th>float64</th><th>float64</th><th>float64</th><th>float64</th><th>float64</th><th>float64</th><th>float64</th><th>float64</th><th>float64</th><th>float64</th><th>float64</th><th>float64</th><th>float64</th><th>float64</th><th>float64</th><th>float64</th><th>float64</th><th>float64</th><th>float64</th><th>float64</th><th>float64</th><th>float64</th><th>float64</th><th>float64</th><th>str1</th></tr></thead>\n",
       "<tr><td>0</td><td>0</td><td>3.0842167964193</td><td>0.00021398880051</td><td>-51.32325731141521</td><td>0.00020446540818</td><td>0.00059583897604</td><td>8.846728402e-05</td><td>0.0002354004386</td><td>2.612102471e-05</td><td>3.0842167964193</td><td>0.00021398880051</td><td>-51.32325731141521</td><td>0.00020446540818</td><td>0.00453067630685</td><td>0.00050630483837</td><td>0.00434503539105</td><td>0.00047873257538</td><td>61.96689621314732</td><td>102.97090993599045</td><td>0.00459162750473</td><td>0.00050630483837</td><td>0.00440527284767</td><td>0.00047873257538</td><td>70.7400713112533</td><td>102.97090993599045</td><td>0.00357022023337</td><td>0.00050630483837</td><td>0.00333242804182</td><td>0.00047873257538</td><td>61.96689621314739</td><td>102.97090993599045</td><td>0.00361825041301</td><td>0.00050630483837</td><td>0.0033786272022</td><td>0.00047873257538</td><td>70.74007131125337</td><td>102.97090993599045</td><td>0.00045327528702</td><td>3.156771149e-05</td><td>2.421672252e-05</td><td>-6.82207246e-06</td><td>8.9988923e-06</td><td>-6.60357038e-06</td><td>S</td></tr>\n",
       "<tr><td>1</td><td>2</td><td>3.05094650758929</td><td>0.0003130828565</td><td>-51.2216350958641</td><td>0.00019531944557</td><td>0.00044799254786</td><td>8.926129664e-05</td><td>0.00021102163197</td><td>3.002766034e-05</td><td>3.05094650758929</td><td>0.0003130828565</td><td>-51.2216350958641</td><td>0.00019531944557</td><td>0.0047297792089</td><td>0.00074803510555</td><td>0.00348981680609</td><td>0.00044678306088</td><td>77.57782738500134</td><td>13.94916532576304</td><td>0.00480517118226</td><td>0.00074803510555</td><td>0.00353063456493</td><td>0.00044678306088</td><td>86.32331542731436</td><td>13.94916532576304</td><td>0.00382469612139</td><td>0.00074803510555</td><td>0.00209074665512</td><td>0.00044678306088</td><td>77.57782738500134</td><td>13.94916532576304</td><td>0.00388566120497</td><td>0.00074803510555</td><td>0.0021152005437</td><td>0.00044678306088</td><td>86.32331542731436</td><td>13.94916532576304</td><td>0.00032349833604</td><td>3.884668271e-05</td><td>2.802873132e-05</td><td>-6.93230413e-06</td><td>1.639546034e-05</td><td>-5.90161489e-06</td><td>S</td></tr>\n",
       "<tr><td>2</td><td>4</td><td>3.0778452633113</td><td>0.00023953991157</td><td>-51.33179769737577</td><td>0.000242660025</td><td>0.00035877524523</td><td>7.392036527e-05</td><td>0.00018302660564</td><td>2.652341585e-05</td><td>3.0778452633113</td><td>0.00023953991157</td><td>-51.33179769737577</td><td>0.000242660025</td><td>0.00402846256646</td><td>0.00059815068699</td><td>0.00378458942768</td><td>0.00053528194192</td><td>128.85619079871097</td><td>79.93329731989914</td><td>0.00409730517703</td><td>0.00059815068699</td><td>0.00382320646719</td><td>0.00053528194192</td><td>137.62406344925728</td><td>79.93329731989914</td><td>0.00291607377284</td><td>0.00059815068699</td><td>0.00254802477254</td><td>0.00053528194192</td><td>128.856190798711</td><td>79.93329731989914</td><td>0.00296590671174</td><td>0.00059815068699</td><td>0.00257402420343</td><td>0.00053528194192</td><td>137.62406344925728</td><td>79.93329731989914</td><td>0.00024651469347</td><td>2.759432235e-05</td><td>2.438455704e-05</td><td>-6.65360949e-06</td><td>3.0066521e-06</td><td>-6.66431008e-06</td><td>S</td></tr>\n",
       "<tr><td>3</td><td>5</td><td>3.0852937318669</td><td>0.00025812943457</td><td>-51.36378895850968</td><td>0.00030696880377</td><td>0.00031234918547</td><td>7.343116354e-05</td><td>0.00015964692978</td><td>2.630850963e-05</td><td>3.0852937318669</td><td>0.00025812943457</td><td>-51.36378895850968</td><td>0.00030696880377</td><td>0.00440663066745</td><td>0.00078628154455</td><td>0.00345351139409</td><td>0.00052560712546</td><td>22.13676694638509</td><td>24.13087308618831</td><td>0.00444669140968</td><td>0.00078628154455</td><td>0.00351609528279</td><td>0.00052560712546</td><td>30.91083828778747</td><td>24.13087308618831</td><td>0.00340153308251</td><td>0.00078628154455</td><td>0.00205362625263</td><td>0.00052560712546</td><td>22.13676694638509</td><td>24.13087308618831</td><td>0.00343245646759</td><td>0.00078628154455</td><td>0.0020908416838</td><td>0.00052560712546</td><td>30.91083828778747</td><td>24.13087308618831</td><td>0.00022047638174</td><td>2.915203261e-05</td><td>2.439223863e-05</td><td>-5.9480908e-06</td><td>5.22554707e-06</td><td>-5.86164336e-06</td><td>S</td></tr>\n",
       "<tr><td>4</td><td>6</td><td>3.06871539753769</td><td>0.00016684589547</td><td>-51.30001079576601</td><td>0.00020113291316</td><td>0.00033799396147</td><td>6.135523319e-05</td><td>0.00021711316802</td><td>2.594292522e-05</td><td>3.06871539753769</td><td>0.00016684589547</td><td>-51.30001079576601</td><td>0.00020113291316</td><td>0.00391966163036</td><td>0.00051832695227</td><td>0.00308878746069</td><td>0.00033349124733</td><td>140.22435376015642</td><td>14.17050442203385</td><td>0.00398132459523</td><td>0.00051832695227</td><td>0.00312473369226</td><td>0.00033349124733</td><td>148.98462857394924</td><td>14.17050442203385</td><td>0.00276008384386</td><td>0.00051832695227</td><td>0.00131609411945</td><td>0.00033349124733</td><td>140.2243537601564</td><td>14.17050442203385</td><td>0.00280350467122</td><td>0.00051832695227</td><td>0.0013314103637</td><td>0.00033349124733</td><td>148.9846285739492</td><td>14.17050442203385</td><td>0.00024092139524</td><td>3.103169284e-05</td><td>2.434054659e-05</td><td>-7.23476842e-06</td><td>2.43160361e-06</td><td>-7.26786654e-06</td><td>S</td></tr>\n",
       "<tr><td>5</td><td>7</td><td>3.40637936693474</td><td>0.00020623838025</td><td>-52.6525856880054</td><td>0.00020992338874</td><td>0.00062085350207</td><td>9.087474067e-05</td><td>0.00024693822993</td><td>2.69532519e-05</td><td>3.40637936693474</td><td>0.00020623838025</td><td>-52.6525856880054</td><td>0.00020992338874</td><td>0.00475965068381</td><td>0.00054479217261</td><td>0.00412269275955</td><td>0.00042910612299</td><td>127.67284021710421</td><td>24.09771449517824</td><td>0.0048261254465</td><td>0.00054479217261</td><td>0.00416313043637</td><td>0.00042910612299</td><td>136.714217790404</td><td>24.09771449517824</td><td>0.00385766704037</td><td>0.00054479217261</td><td>0.0030265125545</td><td>0.00042910612299</td><td>127.67284021710421</td><td>24.09771449517824</td><td>0.00391154441805</td><td>0.00054479217261</td><td>0.00305619828206</td><td>0.00042910612299</td><td>136.714217790404</td><td>24.09771449517824</td><td>0.00039592748015</td><td>2.968207654e-05</td><td>2.505265002e-05</td><td>-4.19646494e-06</td><td>7.24962276e-06</td><td>-4.19612622e-06</td><td>S</td></tr>\n",
       "<tr><td>6</td><td>8</td><td>3.10911274975507</td><td>0.00040131495666</td><td>-51.47948172291612</td><td>0.00025456740452</td><td>0.00038605556531</td><td>8.746099093e-05</td><td>0.0001526822441</td><td>2.575882526e-05</td><td>3.10911274975507</td><td>0.00040131495666</td><td>-51.47948172291612</td><td>0.00025456740452</td><td>0.00516138263394</td><td>0.00095768971623</td><td>0.00381204433269</td><td>0.000584741633</td><td>81.88667945965976</td><td>18.38629263261181</td><td>0.00524525136689</td><td>0.00095768971623</td><td>0.00385223521965</td><td>0.000584741633</td><td>90.68057391501839</td><td>18.38629263261181</td><td>0.00434765153709</td><td>0.00095768971623</td><td>0.00258964356779</td><td>0.000584741633</td><td>81.88667945965976</td><td>18.38629263261181</td><td>0.00441829772773</td><td>0.00095768971623</td><td>0.00261694652152</td><td>0.000584741633</td><td>90.68057391501839</td><td>18.38629263261181</td><td>0.00016255962366</td><td>2.248702342e-05</td><td>2.422114994e-05</td><td>-5.96975087e-06</td><td>3.15721281e-06</td><td>-5.97270278e-06</td><td>S</td></tr>\n",
       "<tr><td>7</td><td>9</td><td>3.36017998132047</td><td>0.00017610774006</td><td>-52.48609805725419</td><td>0.00022317020265</td><td>0.00062909452717</td><td>8.807306796e-05</td><td>0.00024932593424</td><td>2.603838571e-05</td><td>3.36017998132047</td><td>0.00017610774006</td><td>-52.48609805725419</td><td>0.00022317020265</td><td>0.00488695017774</td><td>0.00053792094571</td><td>0.00402820363324</td><td>0.00039913959513</td><td>6.96173497917916</td><td>16.92168342273366</td><td>0.00492626910829</td><td>0.00053792094571</td><td>0.00409306027012</td><td>0.00039913959513</td><td>15.96463964157601</td><td>16.92168342273366</td><td>0.00400225321932</td><td>0.00053792094571</td><td>0.00291313639804</td><td>0.00039913959513</td><td>6.96173497917916</td><td>16.92168342273366</td><td>0.00403445414353</td><td>0.00053792094571</td><td>0.00296003974363</td><td>0.00039913959513</td><td>15.96463964157601</td><td>16.92168342273366</td><td>0.00047471319525</td><td>3.161713612e-05</td><td>2.425463754e-05</td><td>-5.43054057e-06</td><td>1.16333139e-05</td><td>-4.82616325e-06</td><td>S</td></tr>\n",
       "<tr><td>8</td><td>10</td><td>3.71351202305743</td><td>0.00016619282979</td><td>-53.84590487775935</td><td>0.00017708587751</td><td>0.00073834715833</td><td>0.00010270339485</td><td>0.00035125711452</td><td>3.497130873e-05</td><td>3.71351202305743</td><td>0.00016619282979</td><td>-53.84590487775935</td><td>0.00017708587751</td><td>0.00416588572992</td><td>0.00041948839912</td><td>0.00394495346045</td><td>0.00038832681958</td><td>149.03428493984356</td><td>72.96166118172827</td><td>0.00420380186801</td><td>0.00041948839912</td><td>0.00399586732265</td><td>0.00038832681958</td><td>158.3315304047403</td><td>72.96166118172827</td><td>0.00308331018763</td><td>0.00041948839912</td><td>0.00278813519918</td><td>0.00038832681958</td><td>149.0342849398436</td><td>72.96166118172827</td><td>0.00311137317828</td><td>0.00041948839912</td><td>0.00282411907844</td><td>0.00038832681958</td><td>158.33153040474033</td><td>72.96166118172827</td><td>0.00071741517515</td><td>6.558832873e-05</td><td>3.21499283e-05</td><td>-1.263710328e-05</td><td>9.29751524e-06</td><td>-1.230552008e-05</td><td>C</td></tr>\n",
       "<tr><td>...</td><td>...</td><td>...</td><td>...</td><td>...</td><td>...</td><td>...</td><td>...</td><td>...</td><td>...</td><td>...</td><td>...</td><td>...</td><td>...</td><td>...</td><td>...</td><td>...</td><td>...</td><td>...</td><td>...</td><td>...</td><td>...</td><td>...</td><td>...</td><td>...</td><td>...</td><td>...</td><td>...</td><td>...</td><td>...</td><td>...</td><td>...</td><td>...</td><td>...</td><td>...</td><td>...</td><td>...</td><td>...</td><td>...</td><td>...</td><td>...</td><td>...</td><td>...</td><td>...</td><td>...</td></tr>\n",
       "<tr><td>224477</td><td>201221</td><td>341.27830883556106</td><td>0.00033718035417</td><td>-53.86916131709948</td><td>0.00026586396548</td><td>0.00101779146881</td><td>0.0002253719916</td><td>0.00042820709828</td><td>6.980098139e-05</td><td>341.27830883556106</td><td>0.00033718035417</td><td>-53.86916131709948</td><td>0.00026586396548</td><td>0.00466683272564</td><td>0.00079958876997</td><td>0.00399459408641</td><td>0.00061951261522</td><td>101.16351582095893</td><td>54.87217454411492</td><td>0.00472449337521</td><td>0.00079958876997</td><td>0.00402038385075</td><td>0.00061951261522</td><td>91.93503629461236</td><td>54.87217454411492</td><td>0.00373923682318</td><td>0.00079958876997</td><td>0.00284036450042</td><td>0.00061951261522</td><td>101.16351582095892</td><td>54.87217454411492</td><td>0.00378543664079</td><td>0.00079958876997</td><td>0.00285870236583</td><td>0.00061951261522</td><td>91.93503629461235</td><td>54.87217454411492</td><td>0.00074492887584</td><td>7.731558743e-05</td><td>6.469189248e-05</td><td>-1.34660297e-06</td><td>8.42742622e-06</td><td>-1.28912576e-06</td><td>S</td></tr>\n",
       "<tr><td>224478</td><td>201223</td><td>340.92784378140595</td><td>0.00043667860197</td><td>-55.09557717899683</td><td>0.00046072365607</td><td>0.00064437044397</td><td>0.00014583998808</td><td>0.0001885399247</td><td>3.371319537e-05</td><td>340.92784378140595</td><td>0.00043667860197</td><td>-55.09557717899683</td><td>0.00046072365607</td><td>0.00671924922058</td><td>0.00135722553346</td><td>0.00399071691498</td><td>0.00063169504984</td><td>52.26703190858454</td><td>29.39967456234535</td><td>0.00677753060934</td><td>0.00135722553346</td><td>0.00402975474278</td><td>0.00063169504984</td><td>42.74695767096478</td><td>29.39967456234535</td><td>0.00610686907439</td><td>0.00135722553346</td><td>0.00284404542203</td><td>0.00063169504984</td><td>52.26703190858453</td><td>29.39967456234535</td><td>0.00615983880224</td><td>0.00135722553346</td><td>0.00287186632628</td><td>0.00063169504984</td><td>42.74695767096477</td><td>29.39967456234535</td><td>0.00040142757117</td><td>5.185649687e-05</td><td>3.3551667e-05</td><td>-4.34084996e-06</td><td>9.53976459e-06</td><td>-4.23492248e-06</td><td>S</td></tr>\n",
       "<tr><td>224479</td><td>201224</td><td>341.9260295941671</td><td>0.00037279586794</td><td>-51.3375343528251</td><td>0.0004080840378</td><td>0.00053649788854</td><td>0.00013124727935</td><td>0.00019135646521</td><td>3.566374534e-05</td><td>341.9260295941671</td><td>0.00037279586794</td><td>-51.3375343528251</td><td>0.0004080840378</td><td>0.00548218529007</td><td>0.00110284343201</td><td>0.00399034157293</td><td>0.0006890117951</td><td>149.7296206575739</td><td>38.79045932332824</td><td>0.00552737003758</td><td>0.00110284343201</td><td>0.00405344381112</td><td>0.0006890117951</td><td>141.03950061721866</td><td>38.79045932332824</td><td>0.00471096253117</td><td>0.00110284343201</td><td>0.00285978887927</td><td>0.0006890117951</td><td>149.7296206575739</td><td>38.79045932332824</td><td>0.00474979077869</td><td>0.00110284343201</td><td>0.0029050128466</td><td>0.0006890117951</td><td>141.03950061721864</td><td>38.79045932332824</td><td>0.00033411226027</td><td>4.658769143e-05</td><td>3.383160947e-05</td><td>-6.20738865e-06</td><td>7.17893168e-06</td><td>-6.10893208e-06</td><td>S</td></tr>\n",
       "<tr><td>224480</td><td>201225</td><td>341.60992983038943</td><td>9.333548181e-05</td><td>-52.58268634834198</td><td>7.198690814e-05</td><td>0.00456105037307</td><td>0.00026781941724</td><td>0.00100867721965</td><td>4.009554323e-05</td><td>341.6105842749621</td><td>9.333548181e-05</td><td>-52.58349887747542</td><td>7.198690814e-05</td><td>0.00476052048749</td><td>0.00022808822156</td><td>0.00376611421628</td><td>0.00015817202928</td><td>167.17470521233275</td><td>9.18365605717092</td><td>0.00479341888553</td><td>0.00022808822156</td><td>0.0038182110478</td><td>0.00015817202928</td><td>158.22194437844513</td><td>9.18365605717092</td><td>0.0038445499563</td><td>0.00022808822156</td><td>0.00253157917651</td><td>0.00015817202928</td><td>167.17470521233273</td><td>9.18365605717092</td><td>0.00387111838119</td><td>0.00022808822156</td><td>0.00256659862747</td><td>0.00015817202928</td><td>158.2219443784451</td><td>9.18365605717092</td><td>0.00292927092221</td><td>6.92136827e-05</td><td>4.009554323e-05</td><td>-5.80660435e-06</td><td>1.665738128e-05</td><td>-6.23571651e-06</td><td>M</td></tr>\n",
       "<tr><td>224481</td><td>201226</td><td>341.9609586816908</td><td>0.00052834653466</td><td>-51.18338214698313</td><td>0.00034353095811</td><td>0.00058082957365</td><td>0.00013543593384</td><td>0.00018914290087</td><td>3.402415125e-05</td><td>341.9609586816908</td><td>0.00052834653466</td><td>-51.18338214698313</td><td>0.00034353095811</td><td>0.00658970913311</td><td>0.00137250616179</td><td>0.00363427276606</td><td>0.00056463268885</td><td>125.22641420715975</td><td>26.76660295190117</td><td>0.00665993095127</td><td>0.00137250616179</td><td>0.00368473932195</td><td>0.00056463268885</td><td>116.56530589016495</td><td>26.76660295190117</td><td>0.00596662303587</td><td>0.00137250616179</td><td>0.00233110100311</td><td>0.00056463268885</td><td>125.22641420715975</td><td>26.76660295190117</td><td>0.00603020506987</td><td>0.00137250616179</td><td>0.00236347134101</td><td>0.00056463268885</td><td>116.56530589016495</td><td>26.76660295190117</td><td>0.00025808364394</td><td>3.267240195e-05</td><td>3.377427856e-05</td><td>-6.39532027e-06</td><td>6.79982999e-06</td><td>-6.3674124e-06</td><td>S</td></tr>\n",
       "<tr><td>224482</td><td>201227</td><td>341.9016931128768</td><td>0.00042279680946</td><td>-51.42413459899251</td><td>0.00029673915146</td><td>0.00047200297478</td><td>0.00011811593028</td><td>0.00019684314103</td><td>3.618342569e-05</td><td>341.9016931128768</td><td>0.00042279680946</td><td>-51.42413459899251</td><td>0.00029673915146</td><td>0.00516408248464</td><td>0.00105944245538</td><td>0.00362396661325</td><td>0.00059688474627</td><td>75.49036983135245</td><td>34.68683856678804</td><td>0.0052457775583</td><td>0.00105944245538</td><td>0.00365285470845</td><td>0.00059688474627</td><td>66.78003499967528</td><td>34.68683856678804</td><td>0.00435010434055</td><td>0.00105944245538</td><td>0.00229515215629</td><td>0.00059688474627</td><td>75.49036983135245</td><td>34.68683856678804</td><td>0.00441892239128</td><td>0.00105944245538</td><td>0.00231344773661</td><td>0.00059688474627</td><td>66.78003499967528</td><td>34.68683856678804</td><td>0.00029672708018</td><td>4.541041486e-05</td><td>3.41024861e-05</td><td>-6.08762002e-06</td><td>5.82034376e-06</td><td>-6.03175975e-06</td><td>S</td></tr>\n",
       "<tr><td>224483</td><td>201228</td><td>341.5935548281152</td><td>0.000279503173</td><td>-52.64089248701817</td><td>0.00029352053065</td><td>0.00028996760409</td><td>8.8759119e-05</td><td>0.00019778062689</td><td>3.937129934e-05</td><td>341.5935548281152</td><td>0.000279503173</td><td>-52.64089248701817</td><td>0.00029352053065</td><td>0.0034440251267</td><td>0.00069280024007</td><td>0.00333281509824</td><td>0.00065654320469</td><td>3.25216382654594</td><td>8.96637104099545</td><td>0.00346888183708</td><td>0.00069280024007</td><td>0.00337748978898</td><td>0.00065654320469</td><td>174.28579278555048</td><td>8.96637104099545</td><td>0.00199602532516</td><td>0.00069280024007</td><td>0.00182383011189</td><td>0.00065654320469</td><td>3.25216382654595</td><td>8.96637104099545</td><td>0.00201043132403</td><td>0.00069280024007</td><td>0.00184827762624</td><td>0.00065654320469</td><td>174.28579278555048</td><td>8.96637104099545</td><td>0.00012452977304</td><td>2.706807973e-05</td><td>3.677417408e-05</td><td>-6.67991162e-06</td><td>3.97160498e-06</td><td>-6.69735204e-06</td><td>S</td></tr>\n",
       "<tr><td>224484</td><td>201229</td><td>341.92269845884283</td><td>0.00021653650609</td><td>-51.31852848616536</td><td>0.00020580935947</td><td>0.0003215846016</td><td>7.667841266e-05</td><td>0.0002361209929</td><td>3.580562554e-05</td><td>341.92269845884283</td><td>0.00021653650609</td><td>-51.31852848616536</td><td>0.00020580935947</td><td>0.00341204101636</td><td>0.00053348387792</td><td>0.00311425597411</td><td>0.00045800980119</td><td>133.46993884819722</td><td>83.30339831647464</td><td>0.00344476864581</td><td>0.00053348387792</td><td>0.00315950032995</td><td>0.00045800980119</td><td>124.77705190140847</td><td>83.30339831647464</td><td>0.00194983104974</td><td>0.00053348387792</td><td>0.00139086917131</td><td>0.00045800980119</td><td>133.46993884819722</td><td>83.30339831647464</td><td>0.00196853344706</td><td>0.00053348387792</td><td>0.00141107591715</td><td>0.00045800980119</td><td>124.77705190140847</td><td>83.30339831647464</td><td>0.00035568603722</td><td>6.295902588e-05</td><td>3.378665861e-05</td><td>-6.23201731e-06</td><td>5.18732893e-06</td><td>-6.29685099e-06</td><td>C</td></tr>\n",
       "<tr><td>224485</td><td>201229</td><td>341.9162095219515</td><td>0.00026097390291</td><td>-51.31972933134823</td><td>0.00020906425639</td><td>0.00029663018533</td><td>7.613968253e-05</td><td>0.00021848516551</td><td>3.541074164e-05</td><td>341.9162095219515</td><td>0.00026097390291</td><td>-51.31972933134823</td><td>0.00020906425639</td><td>0.003685312991</td><td>0.00066751719723</td><td>0.0028741604737</td><td>0.00041683115548</td><td>69.43647214402836</td><td>38.03701963157338</td><td>0.00374476737566</td><td>0.00066751719723</td><td>0.00289725261581</td><td>0.00041683115548</td><td>60.73819530106198</td><td>38.03701963157338</td><td>0.00241701486772</td><td>0.00066751719723</td><td>0.00062957989357</td><td>0.00041683115548</td><td>69.43647214402836</td><td>38.03701963157338</td><td>0.00245600806326</td><td>0.00066751719723</td><td>0.00063463818736</td><td>0.00041683115548</td><td>60.73819530106198</td><td>38.03701963157338</td><td>0.00035568603722</td><td>6.295902588e-05</td><td>3.378665861e-05</td><td>-6.23201731e-06</td><td>5.18732893e-06</td><td>-6.29685099e-06</td><td>C</td></tr>\n",
       "<tr><td>224486</td><td>201230</td><td>341.9000619587986</td><td>0.00046831682158</td><td>-51.39373763688738</td><td>0.00038775224146</td><td>0.00050964783516</td><td>0.00013238003927</td><td>0.00017932196439</td><td>3.553513326e-05</td><td>341.9000619587986</td><td>0.00046831682158</td><td>-51.39373763688738</td><td>0.00038775224146</td><td>0.00568667122763</td><td>0.00124980998309</td><td>0.00390011035655</td><td>0.00069686928104</td><td>64.71214415305084</td><td>35.74463916776145</td><td>0.00577704761213</td><td>0.00124980998309</td><td>0.00393141209419</td><td>0.00069686928104</td><td>56.00045438736345</td><td>35.74463916776145</td><td>0.00495933458444</td><td>0.00124980998309</td><td>0.00271040587656</td><td>0.00069686928104</td><td>64.71214415305084</td><td>35.74463916776145</td><td>0.00503815164737</td><td>0.00124980998309</td><td>0.00273215921267</td><td>0.00069686928104</td><td>56.00045438736345</td><td>35.74463916776145</td><td>0.00027251822435</td><td>3.735939861e-05</td><td>3.400937567e-05</td><td>-6.1258911e-06</td><td>5.60788417e-06</td><td>-6.09566472e-06</td><td>S</td></tr>\n",
       "</table></div>"
      ],
      "text/plain": [
       "<Table length=224487>\n",
       "# Source_id Isl_id         RA         ...  Resid_Isl_mean  S_Code\n",
       "   int64    int64       float64       ...     float64       str1 \n",
       "----------- ------ ------------------ ... ---------------- ------\n",
       "          0      0    3.0842167964193 ...  -6.60357038e-06      S\n",
       "          1      2   3.05094650758929 ...  -5.90161489e-06      S\n",
       "          2      4    3.0778452633113 ...  -6.66431008e-06      S\n",
       "          3      5    3.0852937318669 ...  -5.86164336e-06      S\n",
       "          4      6   3.06871539753769 ...  -7.26786654e-06      S\n",
       "          5      7   3.40637936693474 ...  -4.19612622e-06      S\n",
       "          6      8   3.10911274975507 ...  -5.97270278e-06      S\n",
       "          7      9   3.36017998132047 ...  -4.82616325e-06      S\n",
       "          8     10   3.71351202305743 ... -1.230552008e-05      C\n",
       "        ...    ...                ... ...              ...    ...\n",
       "     224477 201221 341.27830883556106 ...  -1.28912576e-06      S\n",
       "     224478 201223 340.92784378140595 ...  -4.23492248e-06      S\n",
       "     224479 201224  341.9260295941671 ...  -6.10893208e-06      S\n",
       "     224480 201225 341.60992983038943 ...  -6.23571651e-06      M\n",
       "     224481 201226  341.9609586816908 ...   -6.3674124e-06      S\n",
       "     224482 201227  341.9016931128768 ...  -6.03175975e-06      S\n",
       "     224483 201228  341.5935548281152 ...  -6.69735204e-06      S\n",
       "     224484 201229 341.92269845884283 ...  -6.29685099e-06      C\n",
       "     224485 201229  341.9162095219515 ...  -6.29685099e-06      C\n",
       "     224486 201230  341.9000619587986 ...  -6.09566472e-06      S"
      ]
     },
     "execution_count": 7,
     "metadata": {},
     "output_type": "execute_result"
    }
   ],
   "source": [
    "meerkat_cat"
   ]
  },
  {
   "cell_type": "code",
   "execution_count": 8,
   "metadata": {},
   "outputs": [
    {
     "data": {
      "text/plain": [
       "['spt3g_s90(mJy)',\n",
       " 'spt3g_s90_up(mJy)',\n",
       " 'spt3g_s90_down(mJy)',\n",
       " 'spt3g_s150(mJy)',\n",
       " 'spt3g_s150_up(mJy)',\n",
       " 'spt3g_s150_down(mJy)',\n",
       " 'spt3g_s220(mJy)',\n",
       " 'spt3g_s220_up(mJy)',\n",
       " 'spt3g_s220_down(mJy)',\n",
       " 'spt3g_alpha90',\n",
       " 'spt3g_alpha90_up',\n",
       " 'spt3g_alpha90_down',\n",
       " 'spt3g_alpha220',\n",
       " 'spt3g_alpha220_up',\n",
       " 'spt3g_alpha220_down',\n",
       " 'spt3g_numalpha1dist',\n",
       " 'spt3g_numalpha2dist',\n",
       " 'spt3g_simple_db_alpha90',\n",
       " 'spt3g_simple_db_alpha220',\n",
       " 'spt3g_alpha90_probexceed',\n",
       " 'spt3g_alpha220_probexceed',\n",
       " 'spt3g_sorted_index',\n",
       " 'spt3g_iau_name',\n",
       " 'spt3g_short_name',\n",
       " 'spt3g_ra(deg)',\n",
       " 'spt3g_dec(deg)',\n",
       " 'spt3g_rawval90(uK)',\n",
       " 'spt3g_rawval150(uK)',\n",
       " 'spt3g_rawval220(uK)',\n",
       " 'spt3g_peakval90(uK)',\n",
       " 'spt3g_peakval150(uK)',\n",
       " 'spt3g_peakval220(uK)',\n",
       " 'spt3g_s90raw(mJy)',\n",
       " 'spt3g_s150raw(mJy)',\n",
       " 'spt3g_s220raw(mJy)',\n",
       " 'spt3g_sn90',\n",
       " 'spt3g_sn150',\n",
       " 'spt3g_sn220',\n",
       " 'spt3g_rawalpha90',\n",
       " 'spt3g_rawerroralpha90',\n",
       " 'spt3g_rawalpha220',\n",
       " 'spt3g_rawerroralpha220',\n",
       " 'spt3g_ra90(deg)',\n",
       " 'spt3g_dec90(deg)',\n",
       " 'spt3g_ra150(deg)',\n",
       " 'spt3g_dec150(deg)',\n",
       " 'spt3g_ra220(deg)',\n",
       " 'spt3g_dec220(deg)',\n",
       " 'spt3g_xpeak90',\n",
       " 'spt3g_ypeak90',\n",
       " 'spt3g_xpeak150',\n",
       " 'spt3g_ypeak150',\n",
       " 'spt3g_xpeak220',\n",
       " 'spt3g_ypeak220',\n",
       " 'spt3g_xpeak',\n",
       " 'spt3g_ypeak',\n",
       " 'spt3g_r90-150_angsep(arcsec)',\n",
       " 'spt3g_r150-220_angsep(arcsec)',\n",
       " 'spt3g_r90-220_angsep(arcsec)',\n",
       " 'spt3g_thumb',\n",
       " 'spt3g_extended',\n",
       " 'spt3g_ext_fwhmx90(arcsec)',\n",
       " 'spt3g_ext_fwhmy90(arcsec)',\n",
       " 'spt3g_ext_fwhmx150(arcsec)',\n",
       " 'spt3g_ext_fwhmy150(arcsec)',\n",
       " 'spt3g_ext_fwhmx220(arcsec)',\n",
       " 'spt3g_ext_fwhmy220(arcsec)',\n",
       " 'spt3g_area90_pix2',\n",
       " 'spt3g_area150_pix2',\n",
       " 'spt3g_area220_pix2',\n",
       " 'spt3g_ellipticity90',\n",
       " 'spt3g_ellipticity150',\n",
       " 'spt3g_ellipticity220',\n",
       " 'spt3g_elongation90',\n",
       " 'spt3g_elongation150',\n",
       " 'spt3g_elongation220',\n",
       " 'spt3g_fwhm90_pix',\n",
       " 'spt3g_fwhm150_pix',\n",
       " 'spt3g_fwhm220_pix',\n",
       " 'spt3g_kron_flux90',\n",
       " 'spt3g_kron_flux150',\n",
       " 'spt3g_kron_flux220',\n",
       " 'spt3g_kron_fluxerr90',\n",
       " 'spt3g_kron_fluxerr150',\n",
       " 'spt3g_kron_fluxerr220',\n",
       " 'spt3g_kron_radius90_pix',\n",
       " 'spt3g_kron_radius150_pix',\n",
       " 'spt3g_kron_radius220_pix',\n",
       " 'spt3g_gini90',\n",
       " 'spt3g_gini150',\n",
       " 'spt3g_gini220',\n",
       " 'spt3g_catalog_name',\n",
       " 'spt3g_mm_rassoc(arcsec)',\n",
       " 'spt3g_spire_rassoc(arcsec)',\n",
       " 'spt3g_rassoc(arcsec)',\n",
       " 'spt3g_flux90_drawing_2d',\n",
       " 'spt3g_flux150_drawing_2d',\n",
       " 'spt3g_flux220_drawing_2d',\n",
       " 'spt3g_flux_dist_vec',\n",
       " 'spt3g_alpha90_drawing',\n",
       " 'spt3g_alpha220_drawing',\n",
       " 'spt3g_alpha_dist_vec',\n",
       " 'spt3g_flux90_dist2d',\n",
       " 'spt3g_flux150_dist2d',\n",
       " 'spt3g_flux220_dist2d',\n",
       " 'spt3g_alpha90_dist2d',\n",
       " 'spt3g_alpha220_dist2d',\n",
       " 'spt3g_alpha_2d',\n",
       " 'spt3g_id',\n",
       " 'spire_catalog_name',\n",
       " 'spire_iau_name',\n",
       " 'spire_ra',\n",
       " 'spire_dec',\n",
       " 'spire_s250um',\n",
       " 'spire_ds250um_up',\n",
       " 'spire_ds250um_down',\n",
       " 'spire_s350um',\n",
       " 'spire_ds350um_up',\n",
       " 'spire_ds350um_down',\n",
       " 'spire_s500um',\n",
       " 'spire_ds500um_up',\n",
       " 'spire_ds500um_down',\n",
       " 'spire_rank',\n",
       " 'spire_id',\n",
       " 'spire_angsep',\n",
       " 'meerkat_catalog_name',\n",
       " 'meerkat_ra',\n",
       " 'meerkat_dec',\n",
       " 'meerkat_flux',\n",
       " 'meerkat_errorflux',\n",
       " 'meerkat_source_name',\n",
       " 'meerkat_rank',\n",
       " 'meerkat_id',\n",
       " 'meerkat_angsep',\n",
       " 'ned_catalog_name',\n",
       " 'ned_iau_name',\n",
       " 'ned_ra(deg)',\n",
       " 'ned_dec(deg)',\n",
       " 'ned_redshift',\n",
       " 'ned_rank',\n",
       " 'ned_id',\n",
       " 'ned_angsep(arcsec)',\n",
       " 'act_catalog_name',\n",
       " 'act_iau_name',\n",
       " 'act_ra(deg)',\n",
       " 'act_dec(deg)',\n",
       " 'act_sn150',\n",
       " 'act_s150(mJy)',\n",
       " 'act_error150(mJy)',\n",
       " 'act_sn220',\n",
       " 'act_s220(mJy)',\n",
       " 'act_error220(mJy)',\n",
       " 'act_sn280',\n",
       " 'act_s280(mJy)',\n",
       " 'act_error280(mJy)',\n",
       " 'act_alpha150',\n",
       " 'act_alpha280',\n",
       " 'act_cutselection',\n",
       " 'act_counterparts',\n",
       " 'act_rank',\n",
       " 'act_id',\n",
       " 'act_angsep(arcsec)',\n",
       " 'sz_catalog_name',\n",
       " 'sz_iau_name',\n",
       " 'sz_ra(deg)',\n",
       " 'sz_dec(deg)',\n",
       " 'sz_sn90',\n",
       " 'sz_s90raw(mJy)',\n",
       " 'sz_error90raw(mJy)',\n",
       " 'sz_s90(mJy)',\n",
       " 'sz_s90_up(mJy)',\n",
       " 'sz_s90_down(mJy)',\n",
       " 'sz_sn150',\n",
       " 'sz_s150raw(mJy)',\n",
       " 'sz_error150raw(mJy)',\n",
       " 'sz_s150(mJy)',\n",
       " 'sz_s150_up(mJy)',\n",
       " 'sz_s150_down(mJy)',\n",
       " 'sz_sn220',\n",
       " 'sz_s220raw(mJy)',\n",
       " 'sz_error220raw(mJy)',\n",
       " 'sz_s220(mJy)',\n",
       " 'sz_s220_up(mJy)',\n",
       " 'sz_s220_down(mJy)',\n",
       " 'sz_rawalpha90',\n",
       " 'sz_alpha90',\n",
       " 'sz_alpha90_up',\n",
       " 'sz_alpha90_down',\n",
       " 'sz_rawalpha220',\n",
       " 'sz_alpha220',\n",
       " 'sz_alpha220_up',\n",
       " 'sz_alpha220_down',\n",
       " 'sz_extended',\n",
       " 'sz_redshift',\n",
       " 'sz_cutselection',\n",
       " 'sz_rank',\n",
       " 'sz_id',\n",
       " 'sz_angsep(arcsec)',\n",
       " 'at20g_catalog_name',\n",
       " 'at20g_ra(deg)',\n",
       " 'at20g_dec(deg)',\n",
       " 'at20g_s20(mJy)',\n",
       " 'at20g_error20(mJy)',\n",
       " 'at20g_rank',\n",
       " 'at20g_id',\n",
       " 'at20g_angsep(arcsec)',\n",
       " 'flux_master_catalog_name',\n",
       " 'flux_master_iau_name',\n",
       " 'flux_master_ra(deg)',\n",
       " 'flux_master_dec(deg)',\n",
       " 'flux_master_s3mm(mJy)',\n",
       " 'flux_master_error3mm(mJy)',\n",
       " 'flux_master_s150raw(mJy)',\n",
       " 'flux_master_error150raw(mJy)',\n",
       " 'flux_master_s150(mJy)',\n",
       " 'flux_master_s150_up(mJy)',\n",
       " 'flux_master_s150_down(mJy)',\n",
       " 'flux_master_s220raw(mJy)',\n",
       " 'flux_master_error220raw(mJy)',\n",
       " 'flux_master_s220(mJy)',\n",
       " 'flux_master_s220_up(mJy)',\n",
       " 'flux_master_s220_down(mJy)',\n",
       " 'flux_master_s870um(mJy)',\n",
       " 'flux_master_error870um(mJy)',\n",
       " 'flux_master_s500um(mJy)',\n",
       " 'flux_master_error500um(mJy)',\n",
       " 'flux_master_s350um(mJy)',\n",
       " 'flux_master_error350um(mJy)',\n",
       " 'flux_master_s250um(mJy)',\n",
       " 'flux_master_error250um(mJy)',\n",
       " 'flux_master_s160um(mJy)',\n",
       " 'flux_master_error160um(mJy)',\n",
       " 'flux_master_s100um(mJy)',\n",
       " 'flux_master_error100um(mJy)',\n",
       " 'flux_master_redshift',\n",
       " 'flux_master_rank',\n",
       " 'flux_master_id',\n",
       " 'flux_master_angsep(arcsec)',\n",
       " 'iras_catalog_name',\n",
       " 'iras_iau_name',\n",
       " 'iras_ra(deg)',\n",
       " 'iras_dec(deg)',\n",
       " 'iras_s12um(mJy)',\n",
       " 'iras_error12um(mJy)',\n",
       " 'iras_s25um(mJy)',\n",
       " 'iras_error25um(mJy)',\n",
       " 'iras_s60um(mJy)',\n",
       " 'iras_error60um(mJy)',\n",
       " 'iras_s100um(mJy)',\n",
       " 'iras_error100um(mJy)',\n",
       " 'iras_ratio60um100um',\n",
       " 'iras_error60um100um',\n",
       " 'iras_rank',\n",
       " 'iras_id',\n",
       " 'iras_angsep(arcsec)',\n",
       " 'askap_low_catalog_name',\n",
       " 'askap_low_iau_name',\n",
       " 'askap_low_ra(deg)',\n",
       " 'askap_low_dec(deg)',\n",
       " 'askap_low_s887p5mhz(mJy)',\n",
       " 'askap_low_sn',\n",
       " 'askap_low_rank',\n",
       " 'askap_low_id',\n",
       " 'askap_low_angsep(arcsec)',\n",
       " 'askap_mid_catalog_name',\n",
       " 'askap_mid_iau_name',\n",
       " 'askap_mid_ra(deg)',\n",
       " 'askap_mid_dec(deg)',\n",
       " 'askap_mid_s1367p5mhz(mJy)',\n",
       " 'askap_mid_sn',\n",
       " 'askap_mid_rank',\n",
       " 'askap_mid_id',\n",
       " 'askap_mid_angsep(arcsec)',\n",
       " 'askap_high_catalog_name',\n",
       " 'askap_high_iau_name',\n",
       " 'askap_high_ra(deg)',\n",
       " 'askap_high_dec(deg)',\n",
       " 'askap_high_s1655p5mhz(mJy)',\n",
       " 'askap_high_sn',\n",
       " 'askap_high_rank',\n",
       " 'askap_high_id',\n",
       " 'askap_high_angsep(arcsec)',\n",
       " 'wise_catalog_name',\n",
       " 'wise_iau_name',\n",
       " 'wise_ra(deg)',\n",
       " 'wise_dec(deg)',\n",
       " 'wise_s22um(mJy)',\n",
       " 'wise_s12um(mJy)',\n",
       " 'wise_s4p5um(mJy)',\n",
       " 'wise_s3p6um(mJy)',\n",
       " 'wise_sn22um',\n",
       " 'wise_sn12um',\n",
       " 'wise_sn4p5um',\n",
       " 'wise_sn3p6um',\n",
       " 'wise_rank',\n",
       " 'wise_id',\n",
       " 'wise_angsep(arcsec)',\n",
       " 'erosita_catalog_name',\n",
       " 'erosita_ra(deg)',\n",
       " 'erosita_dec(deg)',\n",
       " 'erosita_flux(mJy)',\n",
       " 'erosita_src_name',\n",
       " 'erosita_rank',\n",
       " 'erosita_id',\n",
       " 'erosita_angsep(arcsec)',\n",
       " 'spt3g_redshift',\n",
       " 'spt3g_source_of_redshift',\n",
       " 'spt3g_dsfg_flag',\n",
       " 'spt3g_dsfg_nocp_strict_flag',\n",
       " 'spt3g_star_flag',\n",
       " 'spt3g_dp_flag',\n",
       " 'spt3g_external_associations',\n",
       " 'spt3g_spire_flag']"
      ]
     },
     "execution_count": 8,
     "metadata": {},
     "output_type": "execute_result"
    }
   ],
   "source": [
    "spt_spire_new_tab.keys()"
   ]
  },
  {
   "cell_type": "code",
   "execution_count": 9,
   "metadata": {},
   "outputs": [
    {
     "data": {
      "text/html": [
       "<div><i>Table length=196895</i>\n",
       "<table id=\"table140534753755296\" class=\"table-striped table-bordered table-condensed\">\n",
       "<thead><tr><th>HELP_ID</th><th>RA</th><th>Dec</th><th>F_SPIRE_250</th><th>FErr_SPIRE_250_u</th><th>FErr_SPIRE_250_l</th><th>F_SPIRE_350</th><th>FErr_SPIRE_350_u</th><th>FErr_SPIRE_350_l</th><th>F_SPIRE_500</th><th>FErr_SPIRE_500_u</th><th>FErr_SPIRE_500_l</th><th>Bkg_SPIRE_250</th><th>Bkg_SPIRE_350</th><th>Bkg_SPIRE_500</th><th>Sig_conf_SPIRE_250</th><th>Sig_conf_SPIRE_350</th><th>Sig_conf_SPIRE_500</th><th>Rhat_SPIRE_250</th><th>Rhat_SPIRE_350</th><th>Rhat_SPIRE_500</th><th>n_eff_SPIRE_250</th><th>n_eff_SPIRE_500</th><th>n_eff_SPIRE_350</th><th>Pval_res_250</th><th>Pval_res_350</th><th>Pval_res_500</th><th>flag_spire_250</th><th>flag_spire_350</th><th>flag_spire_500</th><th>F_BLIND_MF_SPIRE_250</th><th>FErr_BLIND_MF_SPIRE_250</th><th>F_BLIND_MF_SPIRE_350</th><th>FErr_BLIND_MF_SPIRE_350</th><th>F_BLIND_MF_SPIRE_500</th><th>FErr_BLIND_MF_SPIRE_500</th><th>r</th><th>P</th><th>RA_pix</th><th>Dec_pix</th><th>F_BLIND_pix_SPIRE</th><th>FErr_BLIND_pix_SPIRE</th><th>flag</th><th>field</th></tr></thead>\n",
       "<thead><tr><th></th><th>deg</th><th>deg</th><th>mJy</th><th>mJy</th><th>mJy</th><th>mJy</th><th>mJy</th><th>mJy</th><th>mJy</th><th>mJy</th><th>mJy</th><th>mJy/Beam</th><th>mJy/Beam</th><th>mJy/Beam</th><th>mJy/Beam</th><th>mJy/Beam</th><th>mJy/Beam</th><th></th><th></th><th></th><th></th><th></th><th></th><th></th><th></th><th></th><th></th><th></th><th></th><th>mJy</th><th>mJy</th><th>mJy</th><th>mJy</th><th>mJy</th><th>mJy</th><th></th><th></th><th>deg</th><th>deg</th><th>mJy</th><th>mJy</th><th></th><th></th></tr></thead>\n",
       "<thead><tr><th>bytes33</th><th>float64</th><th>float64</th><th>float32</th><th>float32</th><th>float32</th><th>float32</th><th>float32</th><th>float32</th><th>float32</th><th>float32</th><th>float32</th><th>float32</th><th>float32</th><th>float32</th><th>float32</th><th>float32</th><th>float32</th><th>float32</th><th>float32</th><th>float32</th><th>float32</th><th>float32</th><th>float32</th><th>float32</th><th>float32</th><th>float32</th><th>bool</th><th>bool</th><th>bool</th><th>float64</th><th>float64</th><th>float64</th><th>float64</th><th>float64</th><th>float64</th><th>float64</th><th>float64</th><th>float64</th><th>float64</th><th>float64</th><th>float64</th><th>float64</th><th>bytes4</th></tr></thead>\n",
       "<tr><td>HELP_BLIND_J231546.981-590311.996</td><td>-11.054247152923638</td><td>-59.0533321784544</td><td>1395.3835</td><td>1401.1952</td><td>1389.5771</td><td>530.88116</td><td>531.1725</td><td>530.21063</td><td>172.25098</td><td>173.70807</td><td>169.8388</td><td>-0.9375289</td><td>-1.9447603</td><td>-2.8816688</td><td>3.4571145</td><td>3.204657</td><td>0.4278955</td><td>0.9994792</td><td>0.99938416</td><td>0.999409</td><td>2000.0</td><td>2000.0</td><td>2000.0</td><td>1.0</td><td>1.0</td><td>0.001</td><td>True</td><td>True</td><td>False</td><td>1361.4850873956773</td><td>8.087139792094415</td><td>570.3369416765611</td><td>5.4552256837346516</td><td>189.95691815937252</td><td>5.96706905389619</td><td>0.7699877846137397</td><td>1.0</td><td>-11.054247152923637</td><td>-59.0533321784544</td><td>1201.8348689231855</td><td>7.896192801734264</td><td>0.0</td><td>SSDF</td></tr>\n",
       "<tr><td>HELP_BLIND_J235345.326-541200.923</td><td>-1.5611419296610904</td><td>-54.20025648223162</td><td>981.256</td><td>981.39154</td><td>980.9624</td><td>457.49747</td><td>458.00757</td><td>456.44388</td><td>168.07726</td><td>172.66449</td><td>160.81381</td><td>-1.7938141</td><td>-2.3475897</td><td>-4.1807914</td><td>1.5223825</td><td>0.932721</td><td>1.1936842</td><td>--</td><td>0.99882495</td><td>1.0040805</td><td>2000.0</td><td>2000.0</td><td>2000.0</td><td>1.0</td><td>0.884</td><td>0.0</td><td>True</td><td>True</td><td>False</td><td>1191.6891037452572</td><td>9.407767166034176</td><td>518.257277429716</td><td>8.085089999483854</td><td>191.68851113027958</td><td>9.325456602366557</td><td>0.8476110155381946</td><td>1.0</td><td>-1.5598631003427812</td><td>-54.19935153883182</td><td>1045.638725786413</td><td>8.79356639269407</td><td>0.0</td><td>SSDF</td></tr>\n",
       "<tr><td>HELP_BLIND_J234644.900-574416.763</td><td>-3.312915967348263</td><td>-57.737989783817646</td><td>936.62775</td><td>936.81464</td><td>936.2125</td><td>402.23843</td><td>402.56378</td><td>401.49988</td><td>153.00612</td><td>156.69997</td><td>148.09238</td><td>-1.1955954</td><td>-1.796672</td><td>-2.5258133</td><td>2.9885392</td><td>3.147951</td><td>0.46689123</td><td>--</td><td>1.0006706</td><td>1.0002308</td><td>2000.0</td><td>2000.0</td><td>2000.0</td><td>1.0</td><td>0.988</td><td>0.0</td><td>True</td><td>True</td><td>False</td><td>1017.0129315355206</td><td>5.4085307386190555</td><td>457.7136213662671</td><td>5.64446548588595</td><td>168.99743128826898</td><td>6.088360103012587</td><td>0.8337361995552243</td><td>1.0</td><td>-3.3134690255829558</td><td>-57.73773336140208</td><td>1001.8476881607876</td><td>5.308924236509616</td><td>0.0</td><td>SSDF</td></tr>\n",
       "<tr><td>HELP_BLIND_J232805.997-535833.670</td><td>-7.975013688815927</td><td>-53.97601934399974</td><td>887.22943</td><td>887.4404</td><td>886.7658</td><td>447.9335</td><td>448.56927</td><td>446.62527</td><td>180.51581</td><td>186.73367</td><td>173.0586</td><td>-1.211365</td><td>-1.9990145</td><td>-3.1396368</td><td>0.43221945</td><td>0.979796</td><td>1.1325448</td><td>--</td><td>1.0003144</td><td>0.9999801</td><td>2000.0</td><td>2000.0</td><td>2000.0</td><td>1.0</td><td>0.364</td><td>0.0</td><td>True</td><td>False</td><td>False</td><td>1008.8203857965583</td><td>9.205771105982294</td><td>479.28467939604894</td><td>7.486104138306214</td><td>193.2667701758255</td><td>8.083092620330598</td><td>0.8300761478393518</td><td>1.0</td><td>-7.976433638809651</td><td>-53.97518811014965</td><td>882.5737921734419</td><td>9.028135032601083</td><td>0.0</td><td>SSDF</td></tr>\n",
       "<tr><td>HELP_BLIND_J233302.529-514154.022</td><td>-6.739463210597758</td><td>-51.69833956166183</td><td>868.98206</td><td>869.0227</td><td>868.88965</td><td>403.3625</td><td>403.43723</td><td>403.19803</td><td>234.106</td><td>234.62321</td><td>233.04913</td><td>-1.0170606</td><td>-1.5477252</td><td>-2.0774443</td><td>5.021251</td><td>3.8596356</td><td>1.9259146</td><td>--</td><td>--</td><td>0.9992118</td><td>2000.0</td><td>2000.0</td><td>2000.0</td><td>1.0</td><td>1.0</td><td>1.0</td><td>True</td><td>True</td><td>True</td><td>1073.3208592599308</td><td>5.680794938423173</td><td>515.6935695528316</td><td>5.98111059260031</td><td>277.79223918525355</td><td>6.351533872245528</td><td>0.8196130093381208</td><td>1.0</td><td>-6.739007003037248</td><td>-51.69861108402394</td><td>877.9617453442389</td><td>5.564582474588372</td><td>0.0</td><td>SSDF</td></tr>\n",
       "<tr><td>HELP_BLIND_J000024.096-525031.029</td><td>-359.8995997787236</td><td>-52.84195249306425</td><td>813.3389</td><td>813.8487</td><td>812.39264</td><td>322.8983</td><td>323.1094</td><td>322.3692</td><td>141.38416</td><td>143.7026</td><td>137.92273</td><td>-0.52591336</td><td>-1.4467417</td><td>-2.231365</td><td>3.3733141</td><td>2.9055254</td><td>0.24238266</td><td>0.9994343</td><td>0.9994232</td><td>1.001208</td><td>2000.0</td><td>2000.0</td><td>2000.0</td><td>1.0</td><td>0.793</td><td>0.0</td><td>True</td><td>True</td><td>False</td><td>859.3595617754507</td><td>5.629722099527149</td><td>380.5841847976322</td><td>5.461574612332469</td><td>150.0087241396406</td><td>5.967048383462726</td><td>0.8285409768952536</td><td>1.0</td><td>-359.8995997787236</td><td>-52.84195249306425</td><td>861.4621969417966</td><td>5.525270324167551</td><td>0.0</td><td>SSDF</td></tr>\n",
       "<tr><td>HELP_BLIND_J234448.629-551740.914</td><td>-3.797377930054137</td><td>-55.29469829959746</td><td>791.35284</td><td>791.51276</td><td>790.9534</td><td>364.21408</td><td>364.73267</td><td>363.15338</td><td>135.07095</td><td>136.17204</td><td>133.08583</td><td>-1.4479029</td><td>-1.9019687</td><td>-3.5545566</td><td>2.5744321</td><td>2.6255412</td><td>0.31138548</td><td>--</td><td>0.99930626</td><td>0.9988338</td><td>2000.0</td><td>2000.0</td><td>2000.0</td><td>1.0</td><td>0.386</td><td>0.0</td><td>True</td><td>False</td><td>False</td><td>859.5854937292814</td><td>5.890429686094613</td><td>386.58282468618336</td><td>5.10388468991412</td><td>154.69726044398286</td><td>6.28984778954816</td><td>0.8631339801824134</td><td>1.0</td><td>-3.7968617449808004</td><td>-55.29495801316972</td><td>798.4397927841592</td><td>5.775171302859421</td><td>0.0</td><td>SSDF</td></tr>\n",
       "<tr><td>HELP_BLIND_J235606.965-604016.378</td><td>-0.9709805629159067</td><td>-60.67121613530237</td><td>722.3799</td><td>722.4257</td><td>722.2797</td><td>385.81277</td><td>385.97318</td><td>385.49582</td><td>165.60202</td><td>166.35532</td><td>164.03568</td><td>-0.07961507</td><td>-0.5187966</td><td>-0.5651512</td><td>0.015913246</td><td>0.029324738</td><td>0.038095027</td><td>--</td><td>--</td><td>0.99854106</td><td>2000.0</td><td>2000.0</td><td>2000.0</td><td>1.0</td><td>1.0</td><td>0.006</td><td>True</td><td>True</td><td>False</td><td>884.2488593012669</td><td>5.945731466901928</td><td>436.641108995628</td><td>5.202443445079269</td><td>190.9211674344565</td><td>6.856779156505483</td><td>0.871293086750569</td><td>1.0</td><td>-0.9722126379080684</td><td>-60.67073042373908</td><td>713.0595708995513</td><td>5.81608232752208</td><td>0.0</td><td>SSDF</td></tr>\n",
       "<tr><td>HELP_BLIND_J235826.268-553200.123</td><td>-0.3905502207186293</td><td>-55.53336741490317</td><td>668.6488</td><td>668.7416</td><td>668.43445</td><td>315.48822</td><td>316.04517</td><td>314.30966</td><td>108.55975</td><td>110.34371</td><td>105.43918</td><td>-1.4148195</td><td>-2.089355</td><td>-2.9143221</td><td>2.784399</td><td>2.7631714</td><td>0.30379617</td><td>--</td><td>0.9989196</td><td>0.99858826</td><td>2000.0</td><td>2000.0</td><td>2000.0</td><td>1.0</td><td>0.887</td><td>0.0</td><td>True</td><td>True</td><td>False</td><td>762.2415499339935</td><td>5.616329337971703</td><td>340.39699994465167</td><td>5.549531088590053</td><td>112.65070286147953</td><td>6.051249519382538</td><td>0.8070115436401639</td><td>1.0</td><td>-0.3923818913342476</td><td>-55.53404090731883</td><td>703.7317009962345</td><td>5.737455194178585</td><td>0.0</td><td>SSDF</td></tr>\n",
       "<tr><td>...</td><td>...</td><td>...</td><td>...</td><td>...</td><td>...</td><td>...</td><td>...</td><td>...</td><td>...</td><td>...</td><td>...</td><td>...</td><td>...</td><td>...</td><td>...</td><td>...</td><td>...</td><td>...</td><td>...</td><td>...</td><td>...</td><td>...</td><td>...</td><td>...</td><td>...</td><td>...</td><td>...</td><td>...</td><td>...</td><td>...</td><td>...</td><td>...</td><td>...</td><td>...</td><td>...</td><td>...</td><td>...</td><td>...</td><td>...</td><td>...</td><td>...</td><td>...</td><td>...</td></tr>\n",
       "<tr><td>HELP_BLIND_J232649.755-512821.244</td><td>-8.2926884947349</td><td>-51.47256779408431</td><td>5.9070535</td><td>10.135287</td><td>2.333803</td><td>14.970358</td><td>19.931084</td><td>10.059596</td><td>22.372332</td><td>27.834455</td><td>16.993004</td><td>-1.6591235</td><td>-2.2631972</td><td>-4.1804824</td><td>2.320787</td><td>2.6006174</td><td>0.18306558</td><td>1.0002314</td><td>0.99984103</td><td>0.99855447</td><td>2000.0</td><td>2000.0</td><td>2000.0</td><td>0.0</td><td>0.0</td><td>0.0</td><td>True</td><td>False</td><td>False</td><td>1.1887628316413112</td><td>5.818451467284811</td><td>7.3941109210866465</td><td>6.858904312591285</td><td>16.313037562944434</td><td>6.39262187507747</td><td>0.5064809516737309</td><td>0.8518006372873204</td><td>-8.290023528667705</td><td>-51.4742320144099</td><td>25.11353367182806</td><td>6.949996315777816</td><td>2.0</td><td>SSDF</td></tr>\n",
       "<tr><td>HELP_BLIND_J232610.311-534257.823</td><td>-8.457036243121019</td><td>-53.71606204272715</td><td>13.654508</td><td>20.131464</td><td>7.3704495</td><td>10.162284</td><td>15.99324</td><td>4.3176045</td><td>15.999406</td><td>22.031826</td><td>10.033281</td><td>-1.3614538</td><td>-2.4160411</td><td>-3.8714054</td><td>1.2789997</td><td>1.2940127</td><td>1.6704847</td><td>0.99989665</td><td>1.0006411</td><td>1.0001208</td><td>2000.0</td><td>2000.0</td><td>2000.0</td><td>0.0</td><td>0.0</td><td>0.0</td><td>False</td><td>False</td><td>False</td><td>15.109702126345965</td><td>8.509833494063836</td><td>11.295262738070507</td><td>9.002497807524362</td><td>18.510415262349746</td><td>10.806597629449247</td><td>0.5338012332790673</td><td>0.8518006372873204</td><td>-8.461733379644093</td><td>-53.71660467807652</td><td>25.113471214236117</td><td>9.590576666990776</td><td>2.0</td><td>SSDF</td></tr>\n",
       "<tr><td>HELP_BLIND_J234945.594-600826.881</td><td>-2.5600236643452785</td><td>-60.14080021030309</td><td>19.373104</td><td>26.03254</td><td>12.3320465</td><td>11.845607</td><td>17.987463</td><td>6.4049377</td><td>26.214905</td><td>33.205166</td><td>19.30453</td><td>-2.324743</td><td>-2.425924</td><td>-3.2242498</td><td>2.0056226</td><td>2.1543155</td><td>0.74903154</td><td>1.0025979</td><td>0.99949175</td><td>0.9991297</td><td>2000.0</td><td>2000.0</td><td>2000.0</td><td>0.0</td><td>0.0</td><td>0.0</td><td>False</td><td>False</td><td>False</td><td>17.191947519040866</td><td>9.103302160859593</td><td>9.78144051616721</td><td>8.315405389480459</td><td>18.047783069106153</td><td>8.738771304669626</td><td>0.582011601799013</td><td>0.8518006372873204</td><td>-2.5533969937895282</td><td>-60.140520750152554</td><td>25.111634780283183</td><td>8.958910527082836</td><td>2.0</td><td>SSDF</td></tr>\n",
       "<tr><td>HELP_BLIND_J233128.334-504609.196</td><td>-7.131940688902596</td><td>-50.76922100115812</td><td>13.415589</td><td>18.503513</td><td>8.475276</td><td>15.094186</td><td>20.101458</td><td>10.159168</td><td>24.802147</td><td>30.717537</td><td>18.529814</td><td>-1.6952894</td><td>-2.6617913</td><td>-2.9227362</td><td>1.6239318</td><td>1.963512</td><td>0.5042298</td><td>1.0015311</td><td>1.0006529</td><td>0.9987082</td><td>2000.0</td><td>2000.0</td><td>2000.0</td><td>0.0</td><td>0.0</td><td>0.0</td><td>False</td><td>False</td><td>False</td><td>8.838066724264607</td><td>6.513406319524548</td><td>11.114126576332179</td><td>6.160573956055158</td><td>23.070684137075734</td><td>7.458138866432928</td><td>0.523880879710262</td><td>0.8518006372873204</td><td>-7.131052179617016</td><td>-50.769766057985535</td><td>25.10833121945867</td><td>7.3165891383203245</td><td>2.0</td><td>SSDF</td></tr>\n",
       "<tr><td>HELP_BLIND_J225153.158-580724.962</td><td>-17.02850663022859</td><td>-58.12360044331571</td><td>20.005512</td><td>25.323814</td><td>14.598593</td><td>13.674942</td><td>18.763643</td><td>8.561731</td><td>20.750359</td><td>27.449776</td><td>13.984599</td><td>-1.3078332</td><td>-2.1088269</td><td>-3.2278547</td><td>2.3658655</td><td>2.4825768</td><td>1.3088324</td><td>0.9992941</td><td>1.0015658</td><td>0.99892324</td><td>2000.0</td><td>2000.0</td><td>2000.0</td><td>0.0</td><td>0.0</td><td>0.0</td><td>False</td><td>False</td><td>False</td><td>21.633239042721236</td><td>6.489194070005406</td><td>15.345650283311166</td><td>6.156930092565698</td><td>20.233751637715383</td><td>7.4774151478960205</td><td>0.6419019924374999</td><td>0.8518006372873204</td><td>-17.031104176831892</td><td>-58.12564397711381</td><td>25.1077302679298</td><td>7.781681676375143</td><td>2.0</td><td>SSDF</td></tr>\n",
       "<tr><td>HELP_BLIND_J232002.269-495709.748</td><td>-9.990546267001662</td><td>-49.95270774649909</td><td>24.072554</td><td>29.818497</td><td>18.188278</td><td>32.329235</td><td>37.730415</td><td>26.862526</td><td>30.653326</td><td>35.67096</td><td>24.468142</td><td>-1.2142107</td><td>-1.9801732</td><td>-3.0567043</td><td>2.3021019</td><td>2.2325878</td><td>0.18734501</td><td>1.0001992</td><td>0.9995374</td><td>0.99908686</td><td>2000.0</td><td>2000.0</td><td>2000.0</td><td>0.011</td><td>0.001</td><td>0.0</td><td>False</td><td>False</td><td>False</td><td>13.678731451855777</td><td>6.370369655983561</td><td>21.437261276199624</td><td>5.728428866887131</td><td>26.21249583432495</td><td>6.349667339414004</td><td>0.49806771037186715</td><td>0.8518006372873204</td><td>-9.988035746445473</td><td>-49.954402224690185</td><td>25.106875028139992</td><td>5.862491344050296</td><td>2.0</td><td>SSDF</td></tr>\n",
       "<tr><td>HELP_BLIND_J225729.654-524324.328</td><td>-15.626440886366005</td><td>-52.72342437990317</td><td>2.8420417</td><td>6.4920444</td><td>0.8204034</td><td>4.0205474</td><td>9.133024</td><td>1.0830094</td><td>9.91166</td><td>17.936537</td><td>3.463066</td><td>-0.25290903</td><td>-0.4170422</td><td>-0.68478847</td><td>0.012256729</td><td>0.016136847</td><td>0.022596251</td><td>0.9984487</td><td>0.9989843</td><td>0.99897724</td><td>2000.0</td><td>2000.0</td><td>2000.0</td><td>0.0</td><td>0.0</td><td>0.0</td><td>True</td><td>True</td><td>False</td><td>-3.386539748533792</td><td>9.771097218674916</td><td>2.714947649156696</td><td>12.521771081840809</td><td>14.13499325574224</td><td>11.711060613435507</td><td>0.6108797414608975</td><td>0.8518006372873204</td><td>-15.629675017397421</td><td>-52.72099457570564</td><td>25.105010395839734</td><td>11.094344447331823</td><td>2.0</td><td>SSDF</td></tr>\n",
       "<tr><td>HELP_BLIND_J233208.011-541450.518</td><td>-6.9666190712381795</td><td>-54.24736620883411</td><td>25.940372</td><td>30.563429</td><td>21.43774</td><td>20.098167</td><td>24.961258</td><td>15.1599045</td><td>15.063928</td><td>21.849669</td><td>9.1410675</td><td>-0.75316656</td><td>-1.6214172</td><td>-2.4759119</td><td>2.0566146</td><td>2.3832903</td><td>0.39993012</td><td>0.99899954</td><td>0.99911386</td><td>1.0001215</td><td>2000.0</td><td>2000.0</td><td>2000.0</td><td>0.0</td><td>0.0</td><td>0.0</td><td>False</td><td>False</td><td>False</td><td>19.83554147376159</td><td>5.995536541314429</td><td>17.5048828122359</td><td>5.940536886091094</td><td>19.7268431703143</td><td>7.602980193259138</td><td>0.6284194075398452</td><td>0.8518006372873204</td><td>-6.971355774094387</td><td>-54.24796744666902</td><td>25.103249364036085</td><td>8.405334982545106</td><td>2.0</td><td>SSDF</td></tr>\n",
       "<tr><td>HELP_BLIND_J235729.524-530510.356</td><td>-0.6269830197942046</td><td>-53.08621009256667</td><td>14.98637</td><td>19.406391</td><td>10.6027565</td><td>25.429834</td><td>30.45447</td><td>20.618902</td><td>21.160109</td><td>26.766676</td><td>15.834516</td><td>-0.2364716</td><td>-0.7055301</td><td>-2.0066774</td><td>3.1909235</td><td>3.205031</td><td>1.3748103</td><td>0.9998792</td><td>0.99998295</td><td>1.0005269</td><td>2000.0</td><td>2000.0</td><td>2000.0</td><td>0.0</td><td>0.0</td><td>0.0</td><td>False</td><td>False</td><td>False</td><td>5.901429881679135</td><td>5.685278773068659</td><td>17.263366882786997</td><td>5.384195413948969</td><td>17.29096065356732</td><td>5.991813295509071</td><td>0.6314009652048675</td><td>0.8518006372873204</td><td>-0.6249581229280032</td><td>-53.08719488267365</td><td>25.10158109539355</td><td>5.886433295452161</td><td>2.0</td><td>SSDF</td></tr>\n",
       "</table></div>"
      ],
      "text/plain": [
       "<Table length=196895>\n",
       "             HELP_ID                       RA         ...   flag  field \n",
       "                                          deg         ...               \n",
       "             bytes33                    float64       ... float64 bytes4\n",
       "--------------------------------- ------------------- ... ------- ------\n",
       "HELP_BLIND_J231546.981-590311.996 -11.054247152923638 ...     0.0   SSDF\n",
       "HELP_BLIND_J235345.326-541200.923 -1.5611419296610904 ...     0.0   SSDF\n",
       "HELP_BLIND_J234644.900-574416.763  -3.312915967348263 ...     0.0   SSDF\n",
       "HELP_BLIND_J232805.997-535833.670  -7.975013688815927 ...     0.0   SSDF\n",
       "HELP_BLIND_J233302.529-514154.022  -6.739463210597758 ...     0.0   SSDF\n",
       "HELP_BLIND_J000024.096-525031.029  -359.8995997787236 ...     0.0   SSDF\n",
       "HELP_BLIND_J234448.629-551740.914  -3.797377930054137 ...     0.0   SSDF\n",
       "HELP_BLIND_J235606.965-604016.378 -0.9709805629159067 ...     0.0   SSDF\n",
       "HELP_BLIND_J235826.268-553200.123 -0.3905502207186293 ...     0.0   SSDF\n",
       "                              ...                 ... ...     ...    ...\n",
       "HELP_BLIND_J232649.755-512821.244    -8.2926884947349 ...     2.0   SSDF\n",
       "HELP_BLIND_J232610.311-534257.823  -8.457036243121019 ...     2.0   SSDF\n",
       "HELP_BLIND_J234945.594-600826.881 -2.5600236643452785 ...     2.0   SSDF\n",
       "HELP_BLIND_J233128.334-504609.196  -7.131940688902596 ...     2.0   SSDF\n",
       "HELP_BLIND_J225153.158-580724.962  -17.02850663022859 ...     2.0   SSDF\n",
       "HELP_BLIND_J232002.269-495709.748  -9.990546267001662 ...     2.0   SSDF\n",
       "HELP_BLIND_J225729.654-524324.328 -15.626440886366005 ...     2.0   SSDF\n",
       "HELP_BLIND_J233208.011-541450.518 -6.9666190712381795 ...     2.0   SSDF\n",
       "HELP_BLIND_J235729.524-530510.356 -0.6269830197942046 ...     2.0   SSDF"
      ]
     },
     "execution_count": 9,
     "metadata": {},
     "output_type": "execute_result"
    }
   ],
   "source": [
    "help_blind_cat"
   ]
  },
  {
   "cell_type": "code",
   "execution_count": 10,
   "metadata": {},
   "outputs": [
    {
     "data": {
      "text/plain": [
       "['HELP_ID',\n",
       " 'RA',\n",
       " 'Dec',\n",
       " 'F_SPIRE_250',\n",
       " 'FErr_SPIRE_250_u',\n",
       " 'FErr_SPIRE_250_l',\n",
       " 'F_SPIRE_350',\n",
       " 'FErr_SPIRE_350_u',\n",
       " 'FErr_SPIRE_350_l',\n",
       " 'F_SPIRE_500',\n",
       " 'FErr_SPIRE_500_u',\n",
       " 'FErr_SPIRE_500_l',\n",
       " 'Bkg_SPIRE_250',\n",
       " 'Bkg_SPIRE_350',\n",
       " 'Bkg_SPIRE_500',\n",
       " 'Sig_conf_SPIRE_250',\n",
       " 'Sig_conf_SPIRE_350',\n",
       " 'Sig_conf_SPIRE_500',\n",
       " 'Rhat_SPIRE_250',\n",
       " 'Rhat_SPIRE_350',\n",
       " 'Rhat_SPIRE_500',\n",
       " 'n_eff_SPIRE_250',\n",
       " 'n_eff_SPIRE_500',\n",
       " 'n_eff_SPIRE_350',\n",
       " 'Pval_res_250',\n",
       " 'Pval_res_350',\n",
       " 'Pval_res_500',\n",
       " 'flag_spire_250',\n",
       " 'flag_spire_350',\n",
       " 'flag_spire_500',\n",
       " 'F_BLIND_MF_SPIRE_250',\n",
       " 'FErr_BLIND_MF_SPIRE_250',\n",
       " 'F_BLIND_MF_SPIRE_350',\n",
       " 'FErr_BLIND_MF_SPIRE_350',\n",
       " 'F_BLIND_MF_SPIRE_500',\n",
       " 'FErr_BLIND_MF_SPIRE_500',\n",
       " 'r',\n",
       " 'P',\n",
       " 'RA_pix',\n",
       " 'Dec_pix',\n",
       " 'F_BLIND_pix_SPIRE',\n",
       " 'FErr_BLIND_pix_SPIRE',\n",
       " 'flag',\n",
       " 'field']"
      ]
     },
     "execution_count": 10,
     "metadata": {},
     "output_type": "execute_result"
    }
   ],
   "source": [
    "help_blind_cat.keys()"
   ]
  },
  {
   "cell_type": "code",
   "execution_count": 11,
   "metadata": {},
   "outputs": [],
   "source": [
    "spt_95_sn = spt_spire_new_tab['spt3g_sn90']\n",
    "spt_150_sn = spt_spire_new_tab['spt3g_sn150']\n",
    "spt_220_sn = spt_spire_new_tab['spt3g_sn220']\n",
    "\n",
    "spt_max_sn = np.zeros_like(spt_150_sn)\n",
    "for i in range(len(spt_150_sn)):\n",
    "    spt_max_sn[i] = np.max([spt_95_sn[i],spt_150_sn[i],spt_220_sn[i]])\n",
    "    \n",
    "spt_pos_err = np.sqrt(5.0**2 + (70.2/spt_max_sn)**2)\n"
   ]
  },
  {
   "cell_type": "code",
   "execution_count": 18,
   "metadata": {},
   "outputs": [],
   "source": [
    "spt_name_col = fits.Column(name = 'ID_SPT', format = '19A', array = spt_spire_new_tab['spt3g_sorted_index'].data)\n",
    "spt_ra_col = fits.Column(name = 'RA', format = 'D', array = spt_spire_new_tab['spt3g_ra(deg)'].data)\n",
    "spt_ra_err_col = fits.Column(name = 'pos_err', format = 'D', array = spt_pos_err.data)\n",
    "spt_dec_col = fits.Column(name = 'DEC', format = 'D', array = spt_spire_new_tab['spt3g_dec(deg)'].data)\n",
    "spt_95_col = fits.Column(name = 'S_95', format = 'D', array = spt_spire_new_tab['spt3g_s90(mJy)'].data)\n",
    "spt_150_col = fits.Column(name = 'S_150', format = 'D', array = spt_spire_new_tab['spt3g_s150(mJy)'].data)\n",
    "spt_220_col = fits.Column(name = 'S_220', format = 'D', array = spt_spire_new_tab['spt3g_s220(mJy)'].data)\n",
    "spt_95_sn_col = fits.Column(name = 'SNR_95', format = 'D', array = spt_spire_new_tab['spt3g_sn90'].data)\n",
    "spt_150_sn_col = fits.Column(name = 'SNR_150', format = 'D', array = spt_spire_new_tab['spt3g_sn150'].data)\n",
    "spt_220_sn_col = fits.Column(name = 'SNR_220', format = 'D', array = spt_spire_new_tab['spt3g_sn220'].data)\n",
    "spt_95_150_si_col = fits.Column(name = 'SI_95_150', format = 'D', array = spt_spire_new_tab['spt3g_alpha90'].data)\n",
    "spt_150_220_si_col = fits.Column(name = 'SI_150_220', format = 'D', array = spt_spire_new_tab['spt3g_alpha220'].data)\n"
   ]
  },
  {
   "cell_type": "code",
   "execution_count": 19,
   "metadata": {},
   "outputs": [],
   "source": [
    "spt_3g_spire_coldefs = fits.ColDefs([spt_name_col,spt_ra_col,spt_ra_err_col,spt_dec_col,spt_95_col,spt_150_col,spt_220_col,spt_95_sn_col,spt_150_sn_col,spt_220_sn_col,spt_95_150_si_col,spt_150_220_si_col]) \n",
    "hdu_spt_3g_spire_cat_new = fits.BinTableHDU.from_columns(spt_3g_spire_coldefs,name='SPT-3G-SPIRE')\n",
    "hdu_spt_3g_spire_cat_new.header.set('TELESCOP', 'South Pole Telescope')\n",
    "hdu_spt_3g_spire_cat_new.header.set('SKYAREA', 100.0)"
   ]
  },
  {
   "cell_type": "code",
   "execution_count": 20,
   "metadata": {},
   "outputs": [],
   "source": [
    "hdu_spt_3g_spire_cat_new.writeto('SPT-3G_SPIRE_catalog_nway_input_v2.fits', overwrite=True)"
   ]
  },
  {
   "cell_type": "code",
   "execution_count": 14,
   "metadata": {},
   "outputs": [],
   "source": [
    "help_blind_ra_err = np.full_like(help_blind_cat['RA'],fill_value = 5.0)"
   ]
  },
  {
   "cell_type": "code",
   "execution_count": 15,
   "metadata": {},
   "outputs": [],
   "source": [
    "help_blind_name_col = fits.Column(name = 'ID_HELP', format = '19A', array = help_blind_cat['HELP_ID'].data)\n",
    "help_blind_ra_col = fits.Column(name = 'RA', format = 'D', array = help_blind_cat['RA'].data)\n",
    "help_blind_ra_err_col = fits.Column(name = 'pos_err', format = 'D', array = help_blind_ra_err.data)\n",
    "help_blind_dec_col = fits.Column(name = 'DEC', format = 'D', array = help_blind_cat['Dec'].data)\n",
    "help_blind_250_col = fits.Column(name = 'S_250', format = 'D', array = help_blind_cat['F_SPIRE_250'].data)\n",
    "help_blind_350_col = fits.Column(name = 'S_350', format = 'D', array = help_blind_cat['F_SPIRE_350'].data)\n",
    "help_blind_500_col = fits.Column(name = 'S_500', format = 'D', array = help_blind_cat['F_SPIRE_500'].data)"
   ]
  },
  {
   "cell_type": "code",
   "execution_count": 16,
   "metadata": {},
   "outputs": [],
   "source": [
    "help_blind_coldefs = fits.ColDefs([help_blind_name_col,help_blind_ra_col,help_blind_ra_err_col,help_blind_dec_col,help_blind_250_col,help_blind_350_col,help_blind_500_col]) \n",
    "hdu_help_blind_cat_new = fits.BinTableHDU.from_columns(help_blind_coldefs,name='SPIRE')\n",
    "hdu_help_blind_cat_new.header.set('TELESCOP', 'Herschel')\n",
    "hdu_help_blind_cat_new.header.set('SKYAREA', 100.0)"
   ]
  },
  {
   "cell_type": "code",
   "execution_count": 17,
   "metadata": {},
   "outputs": [],
   "source": [
    "hdu_help_blind_cat_new.writeto('HELP_SPIRE_catalog_nway_input.fits', overwrite=True)"
   ]
  },
  {
   "cell_type": "code",
   "execution_count": 18,
   "metadata": {},
   "outputs": [],
   "source": [
    "spire_indices = np.where(np.logical_and(help_blind_cat['F_SPIRE_250']>100.0,help_blind_cat['F_SPIRE_250']<1000.0))"
   ]
  },
  {
   "cell_type": "code",
   "execution_count": 19,
   "metadata": {},
   "outputs": [
    {
     "data": {
      "text/plain": [
       "1496"
      ]
     },
     "execution_count": 19,
     "metadata": {},
     "output_type": "execute_result"
    }
   ],
   "source": [
    "len(spire_indices[0])"
   ]
  },
  {
   "cell_type": "code",
   "execution_count": 20,
   "metadata": {},
   "outputs": [],
   "source": [
    "help_250_bright=Table(help_blind_cat[spire_indices[0]])"
   ]
  },
  {
   "cell_type": "code",
   "execution_count": 21,
   "metadata": {},
   "outputs": [
    {
     "name": "stderr",
     "output_type": "stream",
     "text": [
      "WARNING: AstropyDeprecationWarning: SPIRE_SSDF_BLIND_MF_S250_100mJy_1000mJy.csv already exists. Automatically overwriting ASCII files is deprecated. Use the argument 'overwrite=True' in the future. [astropy.io.ascii.ui]\n"
     ]
    }
   ],
   "source": [
    "help_250_bright.write('SPIRE_SSDF_BLIND_MF_S250_100mJy_1000mJy.csv',format='csv')"
   ]
  },
  {
   "cell_type": "code",
   "execution_count": 22,
   "metadata": {},
   "outputs": [
    {
     "data": {
      "text/plain": [
       "['# Source_id',\n",
       " 'Isl_id',\n",
       " 'RA',\n",
       " 'E_RA',\n",
       " 'DEC',\n",
       " 'E_DEC',\n",
       " 'Total_flux',\n",
       " 'E_Total_flux',\n",
       " 'Peak_flux',\n",
       " 'E_Peak_flux',\n",
       " 'RA_max',\n",
       " 'E_RA_max',\n",
       " 'DEC_max',\n",
       " 'E_DEC_max',\n",
       " 'Maj',\n",
       " 'E_Maj',\n",
       " 'Min',\n",
       " 'E_Min',\n",
       " 'PA',\n",
       " 'E_PA',\n",
       " 'Maj_img_plane',\n",
       " 'E_Maj_img_plane',\n",
       " 'Min_img_plane',\n",
       " 'E_Min_img_plane',\n",
       " 'PA_img_plane',\n",
       " 'E_PA_img_plane',\n",
       " 'DC_Maj',\n",
       " 'E_DC_Maj',\n",
       " 'DC_Min',\n",
       " 'E_DC_Min',\n",
       " 'DC_PA',\n",
       " 'E_DC_PA',\n",
       " 'DC_Maj_img_plane',\n",
       " 'E_DC_Maj_img_plane',\n",
       " 'DC_Min_img_plane',\n",
       " 'E_DC_Min_img_plane',\n",
       " 'DC_PA_img_plane',\n",
       " 'E_DC_PA_img_plane',\n",
       " 'Isl_Total_flux',\n",
       " 'E_Isl_Total_flux',\n",
       " 'Isl_rms',\n",
       " 'Isl_mean',\n",
       " 'Resid_Isl_rms',\n",
       " 'Resid_Isl_mean',\n",
       " 'S_Code']"
      ]
     },
     "execution_count": 22,
     "metadata": {},
     "output_type": "execute_result"
    }
   ],
   "source": [
    "meerkat_cat.keys()"
   ]
  },
  {
   "cell_type": "code",
   "execution_count": 23,
   "metadata": {},
   "outputs": [],
   "source": [
    "meerkat_name_col = fits.Column(name = 'ID_HELP', format = '19A', array = meerkat_cat['# Source_id'].data)\n",
    "meerkat_ra_col = fits.Column(name = 'RA', format = 'D', array = meerkat_cat['RA'].data)\n",
    "meerkat_ra_err_col = fits.Column(name = 'pos_err', format = 'D', array = meerkat_cat['E_RA'].data*3600)\n",
    "meerkat_dec_col = fits.Column(name = 'DEC', format = 'D', array = meerkat_cat['DEC'].data)\n",
    "meerkat_flux_col = fits.Column(name = 'Flux', format = 'D', array = meerkat_cat['Total_flux'].data)\n"
   ]
  },
  {
   "cell_type": "code",
   "execution_count": 24,
   "metadata": {},
   "outputs": [],
   "source": [
    "meerkat_coldefs = fits.ColDefs([meerkat_name_col,meerkat_ra_col,meerkat_ra_err_col,meerkat_dec_col,meerkat_flux_col]) \n",
    "hdu_meerkat_cat_new = fits.BinTableHDU.from_columns(meerkat_coldefs,name='MEERKAT')\n",
    "hdu_meerkat_cat_new.header.set('TELESCOP', 'MeerKAT')\n",
    "hdu_meerkat_cat_new.header.set('SKYAREA', 100.0)"
   ]
  },
  {
   "cell_type": "code",
   "execution_count": 25,
   "metadata": {},
   "outputs": [],
   "source": [
    "hdu_meerkat_cat_new.writeto('MeerKAT_SPIRE_catalog_nway_input.fits', overwrite=True)"
   ]
  },
  {
   "cell_type": "code",
   "execution_count": null,
   "metadata": {},
   "outputs": [],
   "source": []
  },
  {
   "cell_type": "markdown",
   "metadata": {},
   "source": [
    "Code to run after making the input catalogs:"
   ]
  },
  {
   "cell_type": "markdown",
   "metadata": {},
   "source": [
    "python $'Pathtonway'$/nway.py SPT-3G_SPIRE_catalog_nway_input_v2.fits :pos_err HELP_SPIRE_catalog_nway_input.fits :pos_err MeerKAT_SPIRE_catalog_nway_input.fits :pos_err --out=spire_041125_v1.fits --radius 60\n",
    "\n",
    "python $'Pathtonway'$/nway-create-fake-catalogue.py --radius 120 SPT-3G_SPIRE_catalog_nway_input_v2.fits SPT-3G_SPIRE_catalog_nway_input_v2-fake.fits\n",
    "\n",
    "python $'Pathtonway'$/nway.py SPT-3G_SPIRE_catalog_nway_input_v2-fake.fits :pos_err HELP_SPIRE_catalog_nway_input.fits :pos_err MeerKAT_SPIRE_catalog_nway_input.fits :pos_err --out=spire_041125_v1.fits-fake.fits --radius 60\n",
    "\n",
    "python $'Pathtonway'$/nway-calibrate-cutoff.py spire_041125_v1.fits spire_041125_v1.fits-fake.fits\n"
   ]
  },
  {
   "cell_type": "code",
   "execution_count": null,
   "metadata": {},
   "outputs": [],
   "source": []
  }
 ],
 "metadata": {
  "kernelspec": {
   "display_name": "Python 3",
   "language": "python",
   "name": "python3"
  },
  "language_info": {
   "codemirror_mode": {
    "name": "ipython",
    "version": 3
   },
   "file_extension": ".py",
   "mimetype": "text/x-python",
   "name": "python",
   "nbconvert_exporter": "python",
   "pygments_lexer": "ipython3",
   "version": "3.7.3"
  }
 },
 "nbformat": 4,
 "nbformat_minor": 4
}
